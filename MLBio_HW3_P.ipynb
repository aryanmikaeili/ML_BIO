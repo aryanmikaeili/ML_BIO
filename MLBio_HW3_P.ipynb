{
 "cells": [
  {
   "cell_type": "markdown",
   "metadata": {
    "colab_type": "text",
    "id": "efrE1Lc0Otrq"
   },
   "source": [
    "# **Machine Learning in Bioinformatics**"
   ]
  },
  {
   "cell_type": "markdown",
   "metadata": {
    "colab_type": "text",
    "id": "GtzvENmYOtxi"
   },
   "source": [
    "**Homework 3:**<br/>\n",
    "!!! If you don't fill these fields, your homework does not count !!!<br/>\n",
    "first name and last name : Aryan Mikaeili<br/>\n",
    "student number : 95105895"
   ]
  },
  {
   "cell_type": "markdown",
   "metadata": {
    "colab_type": "text",
    "id": "KG3vb72VOt4G"
   },
   "source": [
    "You can run cells by hitting `Shift` + `Enter` or `ctrl` + `Enter`.<br/>\n",
    "We highly recommend you to read each line of code carefully and try to \n",
    "understand what it exactly does.<br/>\n",
    "Just alter the parts that is between green comments and specified for you. <br/>\n",
    "Please do not change other parts."
   ]
  },
  {
   "cell_type": "code",
   "execution_count": 132,
   "metadata": {
    "colab": {},
    "colab_type": "code",
    "id": "v0dotHjRO5x_"
   },
   "outputs": [],
   "source": [
    "# importing libraries\n",
    "import pandas as pd\n",
    "import numpy as np\n",
    "import matplotlib.pyplot as plt\n",
    "from sklearn.model_selection import train_test_split\n",
    "import numpy as np\n",
    "from sklearn.datasets import load_breast_cancer \n",
    "from sklearn.linear_model import Perceptron\n",
    "from sklearn.metrics import accuracy_score"
   ]
  },
  {
   "cell_type": "markdown",
   "metadata": {
    "colab_type": "text",
    "id": "_5C6lgUtO-bg"
   },
   "source": [
    "\n",
    "### about the Data:<br/>\n",
    "The purpose of this project is to classify tumors into malignant or benign. The following dataset is constructed based on images of tumors. Features are computed from a digitized image of a fine needle aspirate (FNA) of a breast mass.\n",
    "For more details about the features of this dataset you can visit this link:\n",
    "https://scikit-learn.org/stable/datasets/index.html#breast-cancer-dataset<br/>\n",
    "This dataset contains 30 features and 1 label called target.\n",
    "The original dataset labels are 0 and 1 and in the following code boxes we change it to -1 and 1."
   ]
  },
  {
   "cell_type": "code",
   "execution_count": 133,
   "metadata": {
    "colab": {},
    "colab_type": "code",
    "id": "-7_g8ApcO7tm"
   },
   "outputs": [
    {
     "data": {
      "text/html": [
       "<div>\n",
       "<style scoped>\n",
       "    .dataframe tbody tr th:only-of-type {\n",
       "        vertical-align: middle;\n",
       "    }\n",
       "\n",
       "    .dataframe tbody tr th {\n",
       "        vertical-align: top;\n",
       "    }\n",
       "\n",
       "    .dataframe thead th {\n",
       "        text-align: right;\n",
       "    }\n",
       "</style>\n",
       "<table border=\"1\" class=\"dataframe\">\n",
       "  <thead>\n",
       "    <tr style=\"text-align: right;\">\n",
       "      <th></th>\n",
       "      <th>mean radius</th>\n",
       "      <th>mean texture</th>\n",
       "      <th>mean perimeter</th>\n",
       "      <th>mean area</th>\n",
       "      <th>mean smoothness</th>\n",
       "      <th>mean compactness</th>\n",
       "      <th>mean concavity</th>\n",
       "      <th>mean concave points</th>\n",
       "      <th>mean symmetry</th>\n",
       "      <th>mean fractal dimension</th>\n",
       "      <th>...</th>\n",
       "      <th>worst texture</th>\n",
       "      <th>worst perimeter</th>\n",
       "      <th>worst area</th>\n",
       "      <th>worst smoothness</th>\n",
       "      <th>worst compactness</th>\n",
       "      <th>worst concavity</th>\n",
       "      <th>worst concave points</th>\n",
       "      <th>worst symmetry</th>\n",
       "      <th>worst fractal dimension</th>\n",
       "      <th>target</th>\n",
       "    </tr>\n",
       "  </thead>\n",
       "  <tbody>\n",
       "    <tr>\n",
       "      <th>0</th>\n",
       "      <td>17.99</td>\n",
       "      <td>10.38</td>\n",
       "      <td>122.80</td>\n",
       "      <td>1001.0</td>\n",
       "      <td>0.11840</td>\n",
       "      <td>0.27760</td>\n",
       "      <td>0.3001</td>\n",
       "      <td>0.14710</td>\n",
       "      <td>0.2419</td>\n",
       "      <td>0.07871</td>\n",
       "      <td>...</td>\n",
       "      <td>17.33</td>\n",
       "      <td>184.60</td>\n",
       "      <td>2019.0</td>\n",
       "      <td>0.1622</td>\n",
       "      <td>0.6656</td>\n",
       "      <td>0.7119</td>\n",
       "      <td>0.2654</td>\n",
       "      <td>0.4601</td>\n",
       "      <td>0.11890</td>\n",
       "      <td>0.0</td>\n",
       "    </tr>\n",
       "    <tr>\n",
       "      <th>1</th>\n",
       "      <td>20.57</td>\n",
       "      <td>17.77</td>\n",
       "      <td>132.90</td>\n",
       "      <td>1326.0</td>\n",
       "      <td>0.08474</td>\n",
       "      <td>0.07864</td>\n",
       "      <td>0.0869</td>\n",
       "      <td>0.07017</td>\n",
       "      <td>0.1812</td>\n",
       "      <td>0.05667</td>\n",
       "      <td>...</td>\n",
       "      <td>23.41</td>\n",
       "      <td>158.80</td>\n",
       "      <td>1956.0</td>\n",
       "      <td>0.1238</td>\n",
       "      <td>0.1866</td>\n",
       "      <td>0.2416</td>\n",
       "      <td>0.1860</td>\n",
       "      <td>0.2750</td>\n",
       "      <td>0.08902</td>\n",
       "      <td>0.0</td>\n",
       "    </tr>\n",
       "    <tr>\n",
       "      <th>2</th>\n",
       "      <td>19.69</td>\n",
       "      <td>21.25</td>\n",
       "      <td>130.00</td>\n",
       "      <td>1203.0</td>\n",
       "      <td>0.10960</td>\n",
       "      <td>0.15990</td>\n",
       "      <td>0.1974</td>\n",
       "      <td>0.12790</td>\n",
       "      <td>0.2069</td>\n",
       "      <td>0.05999</td>\n",
       "      <td>...</td>\n",
       "      <td>25.53</td>\n",
       "      <td>152.50</td>\n",
       "      <td>1709.0</td>\n",
       "      <td>0.1444</td>\n",
       "      <td>0.4245</td>\n",
       "      <td>0.4504</td>\n",
       "      <td>0.2430</td>\n",
       "      <td>0.3613</td>\n",
       "      <td>0.08758</td>\n",
       "      <td>0.0</td>\n",
       "    </tr>\n",
       "    <tr>\n",
       "      <th>3</th>\n",
       "      <td>11.42</td>\n",
       "      <td>20.38</td>\n",
       "      <td>77.58</td>\n",
       "      <td>386.1</td>\n",
       "      <td>0.14250</td>\n",
       "      <td>0.28390</td>\n",
       "      <td>0.2414</td>\n",
       "      <td>0.10520</td>\n",
       "      <td>0.2597</td>\n",
       "      <td>0.09744</td>\n",
       "      <td>...</td>\n",
       "      <td>26.50</td>\n",
       "      <td>98.87</td>\n",
       "      <td>567.7</td>\n",
       "      <td>0.2098</td>\n",
       "      <td>0.8663</td>\n",
       "      <td>0.6869</td>\n",
       "      <td>0.2575</td>\n",
       "      <td>0.6638</td>\n",
       "      <td>0.17300</td>\n",
       "      <td>0.0</td>\n",
       "    </tr>\n",
       "    <tr>\n",
       "      <th>4</th>\n",
       "      <td>20.29</td>\n",
       "      <td>14.34</td>\n",
       "      <td>135.10</td>\n",
       "      <td>1297.0</td>\n",
       "      <td>0.10030</td>\n",
       "      <td>0.13280</td>\n",
       "      <td>0.1980</td>\n",
       "      <td>0.10430</td>\n",
       "      <td>0.1809</td>\n",
       "      <td>0.05883</td>\n",
       "      <td>...</td>\n",
       "      <td>16.67</td>\n",
       "      <td>152.20</td>\n",
       "      <td>1575.0</td>\n",
       "      <td>0.1374</td>\n",
       "      <td>0.2050</td>\n",
       "      <td>0.4000</td>\n",
       "      <td>0.1625</td>\n",
       "      <td>0.2364</td>\n",
       "      <td>0.07678</td>\n",
       "      <td>0.0</td>\n",
       "    </tr>\n",
       "  </tbody>\n",
       "</table>\n",
       "<p>5 rows × 31 columns</p>\n",
       "</div>"
      ],
      "text/plain": [
       "   mean radius  mean texture  mean perimeter  mean area  mean smoothness  \\\n",
       "0        17.99         10.38          122.80     1001.0          0.11840   \n",
       "1        20.57         17.77          132.90     1326.0          0.08474   \n",
       "2        19.69         21.25          130.00     1203.0          0.10960   \n",
       "3        11.42         20.38           77.58      386.1          0.14250   \n",
       "4        20.29         14.34          135.10     1297.0          0.10030   \n",
       "\n",
       "   mean compactness  mean concavity  mean concave points  mean symmetry  \\\n",
       "0           0.27760          0.3001              0.14710         0.2419   \n",
       "1           0.07864          0.0869              0.07017         0.1812   \n",
       "2           0.15990          0.1974              0.12790         0.2069   \n",
       "3           0.28390          0.2414              0.10520         0.2597   \n",
       "4           0.13280          0.1980              0.10430         0.1809   \n",
       "\n",
       "   mean fractal dimension  ...  worst texture  worst perimeter  worst area  \\\n",
       "0                 0.07871  ...          17.33           184.60      2019.0   \n",
       "1                 0.05667  ...          23.41           158.80      1956.0   \n",
       "2                 0.05999  ...          25.53           152.50      1709.0   \n",
       "3                 0.09744  ...          26.50            98.87       567.7   \n",
       "4                 0.05883  ...          16.67           152.20      1575.0   \n",
       "\n",
       "   worst smoothness  worst compactness  worst concavity  worst concave points  \\\n",
       "0            0.1622             0.6656           0.7119                0.2654   \n",
       "1            0.1238             0.1866           0.2416                0.1860   \n",
       "2            0.1444             0.4245           0.4504                0.2430   \n",
       "3            0.2098             0.8663           0.6869                0.2575   \n",
       "4            0.1374             0.2050           0.4000                0.1625   \n",
       "\n",
       "   worst symmetry  worst fractal dimension  target  \n",
       "0          0.4601                  0.11890     0.0  \n",
       "1          0.2750                  0.08902     0.0  \n",
       "2          0.3613                  0.08758     0.0  \n",
       "3          0.6638                  0.17300     0.0  \n",
       "4          0.2364                  0.07678     0.0  \n",
       "\n",
       "[5 rows x 31 columns]"
      ]
     },
     "execution_count": 133,
     "metadata": {},
     "output_type": "execute_result"
    }
   ],
   "source": [
    "cancer = load_breast_cancer()  ## change if the data set changed\n",
    "df = pd.DataFrame(np.c_[cancer[\"data\"], cancer[\"target\"]], columns = np.append(cancer[\"feature_names\"],[\"target\"]))\n",
    "features = ['mean radius', 'mean texture', 'mean perimeter', 'mean area', 'mean smoothness', 'mean compactness', 'mean concavity', 'mean concave points', 'mean symmetry', 'mean fractal dimension', 'radius error', 'texture error', 'perimeter error', 'area error', 'smoothness error', 'compactness error', 'concavity error', 'concave points error', 'symmetry error', 'fractal dimension error', 'worst radius', 'worst texture', 'worst perimeter', 'worst area', 'worst smoothness', 'worst compactness', 'worst concavity', 'worst concave points', 'worst symmetry', 'worst fractal dimension']\n",
    "df.head()"
   ]
  },
  {
   "cell_type": "code",
   "execution_count": 134,
   "metadata": {
    "colab": {},
    "colab_type": "code",
    "id": "jmmK95OVPDyg"
   },
   "outputs": [
    {
     "name": "stdout",
     "output_type": "stream",
     "text": [
      "69.94727592267135 %\n",
      "69.94727592267135 %\n",
      "20.035149384885763 %\n",
      "20.035149384885763 %\n",
      "10.017574692442881 %\n",
      "10.017574692442881 %\n"
     ]
    }
   ],
   "source": [
    "cancer.target = np.where(cancer.target==0, -1, cancer.target)\n",
    "X_train ,X_test ,X_val ,y_train ,y_test ,y_val = None ,None ,None ,None ,None ,None\n",
    "################################################################################\n",
    "# TODO:                                                                        #\n",
    "# 1- Normalize tha data.                                                       #\n",
    "# 2- using train_test_split package, split your data into 3 numpy array        #\n",
    "# called X_train, X_test, and X_val and also split the corresponding labels as #\n",
    "# y_train, y_test, and y_val. After spliting, the ratio of your data should be # \n",
    "# approximately like this:                                                     #\n",
    "#  Train : 70%     test : 20%       validation : 10%                           #\n",
    "################################################################################\n",
    "X = cancer[\"data\"]\n",
    "Y = cancer[\"target\"]\n",
    "#from sklearn.preprocessing import MinMaxScaler\n",
    "#scaler = MinMaxScaler()\n",
    "#X_p = scaler.fit_transform(X)\n",
    "X = (X - X.min(axis=0)) / (X.max(axis=0) - X.min(axis = 0))\n",
    "test_ratio = 0.2\n",
    "validation_ratio = 0.1\n",
    "X_train, X_test, y_train, y_test = train_test_split(X, Y, shuffle=True, test_size= test_ratio)\n",
    "X_train, X_val, y_train, y_val = train_test_split(X_train, y_train, test_size= validation_ratio /(1 - test_ratio))\n",
    "\n",
    "################################################################################\n",
    "#                                 END OF YOUR CODE                             #\n",
    "################################################################################\n",
    "print((X_train.shape[0]/cancer.data.shape[0]) * 100, \"%\")\n",
    "print((y_train.shape[0]/cancer.data.shape[0]) * 100, \"%\")\n",
    "print((X_test.shape[0]/cancer.data.shape[0]) * 100, \"%\")\n",
    "print((y_test.shape[0]/cancer.data.shape[0]) * 100, \"%\")\n",
    "print((X_val.shape[0]/cancer.data.shape[0]) * 100, \"%\")\n",
    "print((y_val.shape[0]/cancer.data.shape[0]) * 100, \"%\")"
   ]
  },
  {
   "cell_type": "markdown",
   "metadata": {
    "colab_type": "text",
    "id": "EZ3-Fm4uPIdf"
   },
   "source": [
    "# Ensemble Methods\n",
    "\n",
    "## Problem 1. Bagging (15 points)\n"
   ]
  },
  {
   "cell_type": "code",
   "execution_count": 137,
   "metadata": {
    "colab": {},
    "colab_type": "code",
    "id": "ZzSuFIANPPRh"
   },
   "outputs": [
    {
     "name": "stdout",
     "output_type": "stream",
     "text": [
      "1 0.9649122807017544\n",
      "2 0.9649122807017544\n",
      "3 0.9649122807017544\n",
      "4 0.9649122807017544\n",
      "5 0.9824561403508771\n",
      "6 0.9824561403508771\n",
      "7 0.9824561403508771\n",
      "8 0.9824561403508771\n",
      "9 0.9824561403508771\n",
      "10 1.0\n",
      "11 0.9824561403508771\n",
      "12 0.9824561403508771\n",
      "13 0.9824561403508771\n",
      "14 1.0\n",
      "15 0.9824561403508771\n",
      "16 0.9824561403508771\n",
      "17 0.9824561403508771\n",
      "18 0.9824561403508771\n",
      "19 0.9824561403508771\n",
      "20 0.9824561403508771\n",
      "21 0.9824561403508771\n",
      "22 0.9824561403508771\n",
      "23 0.9824561403508771\n",
      "24 0.9824561403508771\n",
      "25 0.9824561403508771\n",
      "26 0.9824561403508771\n",
      "27 0.9824561403508771\n",
      "28 0.9824561403508771\n",
      "29 0.9824561403508771\n",
      "30 0.9824561403508771\n",
      "31 0.9824561403508771\n",
      "32 0.9824561403508771\n",
      "33 0.9824561403508771\n",
      "34 0.9824561403508771\n",
      "35 0.9824561403508771\n",
      "36 0.9824561403508771\n",
      "37 0.9824561403508771\n",
      "38 0.9824561403508771\n",
      "39 0.9824561403508771\n",
      "40 0.9824561403508771\n",
      "41 0.9824561403508771\n",
      "42 0.9824561403508771\n",
      "43 0.9824561403508771\n",
      "44 0.9824561403508771\n",
      "45 0.9824561403508771\n",
      "46 0.9824561403508771\n",
      "47 0.9824561403508771\n",
      "48 0.9824561403508771\n",
      "49 0.9824561403508771\n",
      "50 0.9824561403508771\n",
      "51 0.9824561403508771\n",
      "52 0.9824561403508771\n",
      "53 0.9824561403508771\n",
      "54 0.9824561403508771\n",
      "55 0.9824561403508771\n",
      "56 0.9824561403508771\n",
      "57 0.9824561403508771\n",
      "58 0.9824561403508771\n",
      "59 0.9824561403508771\n",
      "60 0.9824561403508771\n",
      "61 0.9824561403508771\n",
      "62 0.9824561403508771\n",
      "63 0.9824561403508771\n",
      "64 0.9824561403508771\n",
      "65 0.9824561403508771\n",
      "66 0.9824561403508771\n",
      "67 0.9824561403508771\n",
      "68 0.9824561403508771\n",
      "69 0.9824561403508771\n",
      "70 0.9824561403508771\n",
      "71 0.9824561403508771\n",
      "72 0.9824561403508771\n",
      "73 0.9824561403508771\n",
      "74 0.9824561403508771\n",
      "75 0.9824561403508771\n",
      "76 0.9824561403508771\n",
      "77 0.9824561403508771\n",
      "78 0.9824561403508771\n",
      "79 0.9824561403508771\n",
      "80 0.9824561403508771\n",
      "81 0.9824561403508771\n",
      "82 0.9824561403508771\n",
      "83 0.9824561403508771\n",
      "84 0.9824561403508771\n",
      "85 0.9824561403508771\n",
      "86 0.9824561403508771\n",
      "87 0.9824561403508771\n",
      "88 0.9824561403508771\n",
      "89 0.9824561403508771\n",
      "90 0.9824561403508771\n",
      "91 0.9824561403508771\n",
      "92 0.9824561403508771\n",
      "93 0.9824561403508771\n",
      "94 0.9824561403508771\n",
      "95 0.9824561403508771\n",
      "96 0.9824561403508771\n",
      "97 0.9824561403508771\n",
      "98 0.9824561403508771\n",
      "99 0.9824561403508771\n",
      "100 0.9824561403508771\n",
      "97.36842105263158\n"
     ]
    },
    {
     "data": {
      "image/png": "[encoded data removed]",
      "text/plain": [
       "<matplotlib.figure.Figure at 0x2f6289e3208>"
      ]
     },
     "metadata": {},
     "output_type": "display_data"
    }
   ],
   "source": [
    "from sklearn import model_selection \n",
    "from sklearn.ensemble import BaggingClassifier \n",
    "import sklearn\n",
    "from sklearn.metrics import accuracy_score\n",
    "\n",
    "\n",
    "################################################################################\n",
    "# TODO : initialize the base classifier. You can choose one of the classifiers #\n",
    "# you have learned in this course.(SVM/Decision tree)                          #\n",
    "# IMPORTANT: if you are using SVM as base classifier don't forget to add column#\n",
    "# of '1' s for bias and be careful to use the right datset in next parts.      #\n",
    "################################################################################\n",
    "base_cls = None\n",
    "\n",
    "X_train_biased = np.insert(X_train, 0, 1, axis=1)\n",
    "X_val_biased = np.insert(X_val, 0, 1, axis=1)\n",
    "X_test_biased = np.insert(X_test, 0, 1, axis = 1)\n",
    "base_cls = sklearn.linear_model.Perceptron(tol=1e-3, random_state=0)\n",
    "\n",
    "##################################################################################\n",
    "# TODO: Number of classifiers is a hyperparameter. Choose it by using validation #\n",
    "# data to have the best accuracy                                                 #\n",
    "# For different number of classifiers, train the model with training data and    #\n",
    "# compute accuracy for validation data. Plot accuracy-number of classifiers plot.#\n",
    "##################################################################################\n",
    "def accuracy(preds, labels):\n",
    "    return len(np.argwhere(preds == labels)) / len(labels)\n",
    "\n",
    "num_cls = 10\n",
    "seed = 22\n",
    " \n",
    "max_num_cls = 100\n",
    "accuracies = []\n",
    "models = []\n",
    "for num_cls in range(1,max_num_cls + 1):\n",
    "    base_cls = sklearn.linear_model.Perceptron(tol=1e-3, random_state=seed)\n",
    "    model = BaggingClassifier(base_estimator = base_cls,\n",
    "                              n_estimators = num_cls,\n",
    "                              random_state = seed)\n",
    "    model.fit(X_train_biased,y_train)\n",
    "    models.append(model)\n",
    "    preds = model.predict(X_val_biased)\n",
    "    print(num_cls, accuracy(preds, y_val))\n",
    "    accuracies.append(accuracy(preds, y_val))\n",
    "\n",
    "\n",
    "plt.plot([(i + 1) for i in range(0, max_num_cls)], accuracies)\n",
    "################################################################################\n",
    "# compute and report the accuracy for test data.                               #\n",
    "################################################################################\n",
    "best_num = np.argmax(accuracies)\n",
    "model = models[best_num]\n",
    "preds = model.predict(X_test_biased)\n",
    "\n",
    "print(accuracy(preds, y_test) * 100)\n",
    "#print(accuracy_score(y_test, preds) * 100)\n"
   ]
  },
  {
   "cell_type": "markdown",
   "metadata": {
    "colab_type": "text",
    "id": "ELyA0acXgK2w"
   },
   "source": [
    "## Problem 2. Random Forest(25 points)</br>\n",
    "In this part, you should write your own code to classify the data, using random forest from sklearn package in python."
   ]
  },
  {
   "cell_type": "code",
   "execution_count": 138,
   "metadata": {
    "colab": {},
    "colab_type": "code",
    "id": "JE4eKUybgQUb"
   },
   "outputs": [
    {
     "name": "stdout",
     "output_type": "stream",
     "text": [
      "accuracy :  93.85964912280701\n",
      "              precision    recall  f1-score   support\n",
      "\n",
      "          -1       0.95      0.89      0.92        46\n",
      "           1       0.93      0.97      0.95        68\n",
      "\n",
      "    accuracy                           0.94       114\n",
      "   macro avg       0.94      0.93      0.94       114\n",
      "weighted avg       0.94      0.94      0.94       114\n",
      "\n",
      "[[41  5]\n",
      " [ 2 66]]\n"
     ]
    }
   ],
   "source": [
    "from sklearn.ensemble import RandomForestClassifier\n",
    "from sklearn.metrics import classification_report, confusion_matrix, accuracy_score\n",
    "#################################################################################\n",
    "# TODO:use the validation data to determine hyperparameters(number and depth of #\n",
    "# trees) for the best accuracy                                                  # \n",
    "#################################################################################\n",
    "min_depth = 5\n",
    "max_depth = 20\n",
    "min_num = 50\n",
    "max_num = 150\n",
    "\n",
    "\n",
    "rf = RandomForestClassifier( criterion=\"entropy\", bootstrap=True, random_state=10, oob_score=True, max_features=\"auto\")\n",
    "\n",
    "best_accuracy = 0\n",
    "best_depth = 5\n",
    "best_num = 100\n",
    "\n",
    "\n",
    "use_oob = True\n",
    "\n",
    "if use_oob:\n",
    "    X_train, X_test, y_train, y_test = train_test_split(X, Y, shuffle=True, test_size= test_ratio)\n",
    "\n",
    "for n in range(min_num, max_num, 10):\n",
    "    for d in range(min_depth, max_depth):\n",
    "        rf.set_params(n_estimators = n, max_depth = d)\n",
    "        rf.fit(X_train, y_train)\n",
    "        if use_oob:\n",
    "            score = rf.oob_score_\n",
    "        else:\n",
    "            preds = rf.predict(X_val)\n",
    "            score = accuracy_score(y_val, preds)\n",
    "\n",
    "        if score > best_accuracy:\n",
    "            best_accuracy = score\n",
    "            best_depth = d\n",
    "            best_num = n\n",
    "       \n",
    "\n",
    "rf.set_params(n_estimators = best_num, max_depth = best_depth)\n",
    "rf.fit(X_train, y_train)\n",
    "\n",
    "preds = rf.predict(X_test)\n",
    "\n",
    "\n",
    "#######################################################################################\n",
    "#TODO:report accuracy, presition,recall and confusion matrix for train and test data  #\n",
    "#######################################################################################\n",
    "\n",
    "print(\"accuracy : \", accuracy_score(y_test, preds) * 100)\n",
    "print(classification_report(y_test, preds))\n",
    "print(confusion_matrix(y_test, preds))\n"
   ]
  },
  {
   "cell_type": "markdown",
   "metadata": {
    "colab_type": "text",
    "id": "pSr7G0fdgmyf"
   },
   "source": [
    "Question:\n",
    "Explain how you did choose the hyperparameters.</br>"
   ]
  },
  {
   "cell_type": "markdown",
   "metadata": {
    "colab_type": "text",
    "id": "etxNZ36Ugnp7"
   },
   "source": [
    "The hyperparamater choosing method can be chosen by setting the use_oob variable to True or False. If set true, the code will use out of bag samples for validation, and if not, it will simply use the validation data. Ofcourse in the latter, we can merge the training and validation data, so the model can learn from a larger data, and get a better accuarcy. Also another advantage of this method is that for each tree at least 30% of the training data is out-of-bag data, so the model can validate on a data nearly 3 times larger than the 10% validation data we originally had.\n",
    "In the out-of-bag validation method, the model will use each data value, on the trees that were not trained on that data(were not present in it's bootstrap), and predicts the value of it's label. finally the moddel will calculate the accuracy of the model on all the datapoints, using this method. We can then use this accuracy to find the best hyperparamaters for our model.\n",
    "For the model, I used the values between 5 to 20 for the maximum depth of each tree and valuse between 50 to 150 for the number of trees. Then I did a grid search on these values(checked every combination of the two) and chose the best hyperparameters.\n"
   ]
  },
  {
   "cell_type": "markdown",
   "metadata": {
    "colab_type": "text",
    "id": "fxpbM42MPg6m"
   },
   "source": [
    "## Problem 3. Boosting : AdaBoost (35 points)"
   ]
  },
  {
   "cell_type": "markdown",
   "metadata": {
    "colab_type": "text",
    "id": "rUodQdBvPrKQ"
   },
   "source": [
    "In this part you should implement adaptive boosting algorithm. </br>\n",
    "<picture>\n",
    "  <img src=\"http://uupload.ir/files/b919_adaboost.png\" alt=\"Adaboost\" width=\"600\" height=\"300\">\n",
    "</picture>\n",
    "\n"
   ]
  },
  {
   "cell_type": "code",
   "execution_count": 116,
   "metadata": {
    "colab": {},
    "colab_type": "code",
    "id": "r9TL5FGqRIoL"
   },
   "outputs": [
    {
     "name": "stdout",
     "output_type": "stream",
     "text": [
      "The training data accuracy is: 92.52692459398742 %\n",
      "The test data accuracy is: 88.78667908709828 %\n"
     ]
    }
   ],
   "source": [
    "from sklearn.tree import DecisionTreeClassifier\n",
    "from sklearn.model_selection import cross_validate\n",
    "X_train ,X_test ,y_train ,y_test = None ,None ,None ,None\n",
    "###################################################################\n",
    "# TODO: use 80% of normalized data as train and 20% as test data. #\n",
    "###################################################################\n",
    "cancer = load_breast_cancer()  ## change if the data set changed\n",
    "df = pd.DataFrame(np.c_[cancer[\"target\"], cancer[\"data\"]], columns = np.append([\"target\"], cancer[\"feature_names\"]))\n",
    "features = ['mean radius', 'mean texture', 'mean perimeter', 'mean area', 'mean smoothness', 'mean compactness', 'mean concavity', 'mean concave points', 'mean symmetry', 'mean fractal dimension', 'radius error', 'texture error', 'perimeter error', 'area error', 'smoothness error', 'compactness error', 'concavity error', 'concave points error', 'symmetry error', 'fractal dimension error', 'worst radius', 'worst texture', 'worst perimeter', 'worst area', 'worst smoothness', 'worst compactness', 'worst concavity', 'worst concave points', 'worst symmetry', 'worst fractal dimension']\n",
    "cancer.target = np.where(cancer.target==0, -1, cancer.target)\n",
    "\n",
    "X = cancer[\"data\"]\n",
    "Y = cancer[\"target\"]\n",
    "X = (X - X.min(axis=0)) / (X.max(axis=0) - X.min(axis = 0))\n",
    "\n",
    "test_ratio = 0.2\n",
    "X_train, X_test, y_train, y_test = train_test_split(X, Y, shuffle=True, test_size= test_ratio)\n",
    "\n",
    "######################################################################\n",
    "#TODO : define a weak decision tree.                                 #\n",
    "# initialize these parameters: criterion=\"entropy\" and max_depth = 1 #\n",
    "######################################################################\n",
    "Tree_model = DecisionTreeClassifier(criterion = \"entropy\", max_depth = 1)\n",
    "#############################################################################################\n",
    "#TODO : report accuracy of your weak model on train and test data by using cross validation #\n",
    "#############################################################################################\n",
    "\n",
    "accuracy =cross_validate(Tree_model,X_train, y_train, cv=4, return_train_score=True)\n",
    "train_accuracy = np.mean(accuracy['train_score'])\n",
    "test_accuracy = np.mean(accuracy['test_score'])\n",
    "print('The training data accuracy is:' ,train_accuracy * 100 , '%')\n",
    "print('The test data accuracy is:' ,test_accuracy * 100 , '%')\n",
    "\n"
   ]
  },
  {
   "cell_type": "code",
   "execution_count": 129,
   "metadata": {
    "colab": {},
    "colab_type": "code",
    "id": "elsmjgbNRSdH"
   },
   "outputs": [],
   "source": [
    "class AdaBoost:\n",
    "\n",
    "    def __init__(self, train_data_X, train_data_y, tree_num, test_data_X, test_data_y):\n",
    "        self.train_data_X = train_data_X\n",
    "        self.train_data_y = train_data_y\n",
    "        self.tree_num = tree_num\n",
    "        self.test_data_X = test_data_X\n",
    "        self.test_data_y = test_data_y\n",
    "        self.alphas = None\n",
    "        self.models = None\n",
    "        self.accuracy = []\n",
    "        self.predictions = None\n",
    "\n",
    "    def fit(self):\n",
    "        Evaluation = pd.DataFrame(self.train_data_y.copy())\n",
    "        Evaluation.columns = ['target']\n",
    "        ## TODO:Set the initial weights w = 1/N\n",
    "        Evaluation['weights'] = np.ones(self.train_data_X.shape[0]) * (1 / self.train_data_X.shape[0])\n",
    "\n",
    "        alphas = []  # list of alphas\n",
    "        models = []  # list of trained models\n",
    "        for t in range(self.tree_num):\n",
    "            ## TODO: create a weak decisiontree classifier\n",
    "            Tree_model = DecisionTreeClassifier(criterion='entropy', max_depth=1)\n",
    "            ## TODO: fit the model with train data. set the sample_weight parameter to the 'weights' columns in Evaluation dataframe\n",
    "            model = Tree_model.fit(self.train_data_X, self.train_data_y, sample_weight=Evaluation['weights'])\n",
    "\n",
    "            models.append(model)\n",
    "            predictions = model.predict(self.train_data_X)\n",
    "            score = model.score(self.train_data_X, self.train_data_y)\n",
    "\n",
    "            ## Add this columns to the Evaluation DataFrame\n",
    "            Evaluation['predictions'] = predictions\n",
    "            ## TODO: In each row if the prediction and the target are equal,this column must be '1' and '0' O.W.\n",
    "            Evaluation['evaluation'] = np.where(Evaluation['predictions'] == Evaluation['target'], 1, 0)\n",
    "            ## TODO: In each row if the tha data is missclassified, this column must be 1.\n",
    "            Evaluation['misclassified'] = np.where(Evaluation['predictions'] != Evaluation['target'], 1, 0)\n",
    "\n",
    "\n",
    "            ## TODO: Calculate the misclassification rate and accuracy and then use them to calculate error\n",
    "            accuracy = np.count_nonzero(Evaluation['evaluation']) / Evaluation['evaluation'].shape[0]\n",
    "            misclassification = 1 - accuracy\n",
    "            err = np.dot(Evaluation['weights'], Evaluation['misclassified'])\n",
    "            ## TODO: Calculate the alpha values from the adaboost algorithm\n",
    "            alpha = 0.5 * np.log2((1 - err) / err)\n",
    "            alphas.append(alpha)\n",
    "            ## TODO: update the weights\n",
    "            Evaluation['weights'] = Evaluation['weights'] * np.exp(-1 * alpha * (Evaluation['predictions'] * Evaluation['target']))\n",
    "            Evaluation['weights'] = Evaluation['weights'] / np.sum(Evaluation['weights'])\n",
    "\n",
    "\n",
    "        self.alphas = alphas\n",
    "        self.models = models\n",
    "\n",
    "    def predict(self):\n",
    "        predictions = []\n",
    "        #####################################################################################\n",
    "        # TODO:                                                                              #\n",
    "        # 1- predict target for test data and append each prediction to the predictions list#\n",
    "        # 2- Create a list of accuracies which can be used to plot the accuracy against the #\n",
    "        # number of base learners used for the model                                        #\n",
    "        #####################################################################################\n",
    "        for alpha, model in zip(self.alphas, self.models):\n",
    "            prediction = alpha * model.predict(self.test_data_X)\n",
    "            predictions.append(prediction)\n",
    "            multiple_model_preds = np.sign(np.sum(np.array(predictions), axis=0))\n",
    "            self.accuracy.append(accuracy_score(self.test_data_y, multiple_model_preds))\n",
    "        \n",
    "\n",
    "        self.predictions = np.sign(np.sum(np.array(predictions), axis=0))\n"
   ]
  },
  {
   "cell_type": "code",
   "execution_count": 130,
   "metadata": {
    "colab": {},
    "colab_type": "code",
    "id": "-by9WfOXRVQG"
   },
   "outputs": [
    {
     "name": "stdout",
     "output_type": "stream",
     "text": [
      "With a number of  100 base models we receive an accuracy of  100.0 %\n"
     ]
    },
    {
     "data": {
      "image/png": "[encoded data removed]",
      "text/plain": [
       "<matplotlib.figure.Figure at 0x2f62a9c89b0>"
      ]
     },
     "metadata": {},
     "output_type": "display_data"
    },
    {
     "name": "stdout",
     "output_type": "stream",
     "text": [
      "With a number of  100 base models we receive an accuracy of  98.24561403508771 %\n"
     ]
    }
   ],
   "source": [
    "# Accuracy - number of base learners plot for training data\n",
    "\n",
    "number_of_base_learners = 100\n",
    "\n",
    "fig = plt.figure(figsize=(10,10))\n",
    "ax0 = fig.add_subplot(111)\n",
    "\n",
    "\n",
    "model = AdaBoost(X_train,y_train,number_of_base_learners,X_train,y_train)\n",
    "model.fit()\n",
    "model.predict()\n",
    "\n",
    "ax0.plot(range(len(model.accuracy)),model.accuracy,'-b')\n",
    "ax0.set_xlabel('# models used for Boosting ')\n",
    "ax0.set_ylabel('accuracy')\n",
    "print('With a number of ',number_of_base_learners,'base models we receive an accuracy of ',model.accuracy[-1]*100,'%')    \n",
    "                 \n",
    " \n",
    "#################################################################### \n",
    "# TODO: Plot Accuracy - number of base learners plot for test data #\n",
    "#################################################################### \n",
    "model = AdaBoost(X_train,y_train,number_of_base_learners,X_test,y_test)\n",
    "model.fit()\n",
    "accuracies = model.predict()\n",
    "ax0.plot(range(len(model.accuracy)),model.accuracy,'-r')\n",
    "plt.show()  \n",
    "print('With a number of ',number_of_base_learners,'base models we receive an accuracy of ',model.accuracy[-1]*100,'%')"
   ]
  },
  {
   "cell_type": "code",
   "execution_count": 0,
   "metadata": {
    "colab": {},
    "colab_type": "code",
    "id": "aHIp-4p9Ravu"
   },
   "outputs": [],
   "source": []
  },
  {
   "cell_type": "markdown",
   "metadata": {
    "colab_type": "text",
    "id": "2olecphWRi4L"
   },
   "source": [
    "# Feature Selction </br>\n",
    "\n",
    "## problem4. Filtering : correlation coefficient (25 points)\n"
   ]
  },
  {
   "cell_type": "code",
   "execution_count": 78,
   "metadata": {
    "colab": {},
    "colab_type": "code",
    "id": "oe0ynxveRmXS"
   },
   "outputs": [
    {
     "name": "stdout",
     "output_type": "stream",
     "text": [
      "part 1:  ['worst concave points' 'worst perimeter' 'worst radius'\n",
      " 'mean concave points' 'mean perimeter' 'worst area' 'mean radius'\n",
      " 'mean area' 'mean concavity' 'worst concavity' 'mean compactness'\n",
      " 'worst compactness' 'radius error' 'perimeter error' 'area error']\n",
      "part2 (top 3):  ['worst compactness' 'area error' 'worst concavity']\n",
      "part2 all:  ['worst compactness' 'area error' 'worst concavity' 'perimeter error'\n",
      " 'radius error' 'mean compactness' 'mean area' 'mean radius' 'worst area'\n",
      " 'mean perimeter' 'worst radius']\n",
      "part4(accuracy of perceptron): 0.9824561403508771\n",
      "part4(sorted features):  ['worst compactness' 'concave points error' 'worst fractal dimension'\n",
      " 'mean symmetry' 'texture error' 'mean smoothness' 'smoothness error'\n",
      " 'concavity error' 'mean compactness' 'symmetry error' 'mean perimeter'\n",
      " 'mean radius' 'fractal dimension error' 'worst concavity' 'mean area'\n",
      " 'mean texture' 'mean fractal dimension' 'area error' 'perimeter error'\n",
      " 'compactness error' 'mean concavity' 'worst symmetry' 'worst perimeter'\n",
      " 'worst concave points' 'worst area' 'worst smoothness'\n",
      " 'mean concave points' 'worst texture' 'worst radius' 'radius error']\n",
      "6 2\n",
      "part6(accuracy of perceptron): 0.9122807017543859\n",
      "part7(accuracy of perceptron): 0.8157894736842105\n"
     ]
    }
   ],
   "source": [
    "################################################################################# \n",
    "# TODO:                                                                         #\n",
    "# use 80% of normalized data as train and 20% as test data.(just use the data   # \n",
    "# from last part)                                                               #\n",
    "# 1- compute the correlation coefficient between each feature and target.       #\n",
    "# 2- Report the features that their correlation is more than 0.5                #\n",
    "# 3- compute the correlation between the features you reported in 2nd           #\n",
    "# section and report features that their correlation with other features        #\n",
    "# is less than 0.5                                                              #\n",
    "# 4- use perceptron from sklearn package to classify the data. Report accurracy #\n",
    "# for test data and sort the features based on their weights in perceptron.     #\n",
    "# IMPORTANT: Don't forget to add 1s to the end of feature vectors to be         #\n",
    "# multiplied by bias term of weight in perceptron.                              #\n",
    "# 5- compare the features you reported in section 2 and 3 with the features     #\n",
    "# that have the most weights in perceptron and write your analysis below        #\n",
    "# 6 - Classify data with perceptron and use only the features you repoted in    # \n",
    "# section 2 and report accuracy for test data.                                  #\n",
    "# 7 - Do the same with section 3 and compare accuracies.                        #\n",
    "#################################################################################\n",
    "X_train, X_test, y_train, y_test = train_test_split(X, Y, shuffle=True, test_size= test_ratio)\n",
    "features = np.array(features)\n",
    "###1\n",
    "corrs = []\n",
    "for i in range(X_train.shape[1]):\n",
    "    current_col = X_train[:,i]\n",
    "    corr = np.corrcoef(current_col, y_train)\n",
    "    corrs.append([np.abs(corr[0][1]), i])\n",
    "\n",
    "corrs_sorted = np.array(sorted(corrs, reverse=True))\n",
    "###2\n",
    "selected = corrs_sorted[np.where(corrs_sorted[:, 0] > 0.5)]\n",
    "feature_indexes = selected[:,1].astype(int)\n",
    "print(\"part 1: \" , features[feature_indexes])\n",
    "\n",
    "###3\n",
    "X_selected = X_train[:,feature_indexes]\n",
    "corr_mat = np.corrcoef(X_selected.T)\n",
    "num_less = np.array(np.unique(np.argwhere(np.abs(corr_mat) < 0.5)[:,0], return_counts=True))\n",
    "sorted_num_less = num_less[:, num_less[1].argsort()]\n",
    "top_all = feature_indexes[np.flip(sorted_num_less[0], axis = 0)]\n",
    "top3 = top_all[:3]\n",
    "print(\"part2 (top 3): \", features[top3])\n",
    "print(\"part2 all: \", features[top_all])\n",
    "\n",
    "###4\n",
    "X_train_biased = np.insert(X_train, 0, 1, axis=1)\n",
    "X_test_biased = np.insert(X_test, 0, 1, axis = 1)\n",
    "clf = Perceptron(tol=1e-3)\n",
    "clf.fit(X_train_biased, y_train)\n",
    "\n",
    "preds = clf.predict(X_test_biased)\n",
    "print(\"part4(accuracy of perceptron):\", accuracy_score(y_test, preds))\n",
    "sorted_weight_features = features[np.abs(clf.coef_[0,1:]).argsort()]\n",
    "print(\"part4(sorted features): \", sorted_weight_features)\n",
    "##5\n",
    "num_similar_part2 = 0\n",
    "for f in features[feature_indexes]:\n",
    "    if f in sorted_weight_features[0:15]:\n",
    "        num_similar_part2 += 1\n",
    "num_similar_part3 = 0\n",
    "for f in features[top3]:\n",
    "    if f in sorted_weight_features[0:15]:\n",
    "        num_similar_part3 += 1\n",
    "\n",
    "print(num_similar_part2, num_similar_part3)\n",
    "\n",
    "###6\n",
    "X_selected = np.insert(X_selected, 0, 1, axis=1)\n",
    "clf.fit(X_selected, y_train)\n",
    "X_test_new = X_test[:, feature_indexes]\n",
    "X_test_new = np.insert(X_test_new, 0, 1, axis=1)\n",
    "preds = clf.predict(X_test_new)\n",
    "print(\"part6(accuracy of perceptron):\", accuracy_score(y_test, preds))\n",
    "\n",
    "###7\n",
    "X_selected = np.insert(X_train[:, top3], 0, 1, axis=1)\n",
    "clf.fit(X_selected, y_train)\n",
    "X_test_new = X_test[:, top3]\n",
    "X_test_new = np.insert(X_test_new, 0, 1, axis=1)\n",
    "preds = clf.predict(X_test_new)\n",
    "print(\"part7(accuracy of perceptron):\", accuracy_score(y_test, preds))\n",
    "\n",
    "\n",
    "\n",
    "\n",
    "        \n",
    "\n"
   ]
  },
  {
   "cell_type": "markdown",
   "metadata": {
    "colab_type": "text",
    "id": "o0QJrI36-GNR"
   },
   "source": [
    "explanation of part 5 and 6:"
   ]
  },
  {
   "cell_type": "markdown",
   "metadata": {
    "colab_type": "text",
    "id": "iTC2KZ1h-QO6"
   },
   "source": [
    "As you can see in part 5, many of the features extracted in part 2 and 3 are among the features with the highest weights in the perceptron (i.e. they are more important in classification). This shows that features with more correlation with the label distribution, are more important in classification. also in part 6 you can see that the accuracy has not dropped signifficantly which showes that the features extracted are the more important ones in the course of classification."
   ]
  },
  {
   "cell_type": "markdown",
   "metadata": {
    "colab_type": "text",
    "id": "k_XG0iKSRqnE"
   },
   "source": [
    "Question: Is it important to extract features before classifying using methods like decision tree and SVM? why? "
   ]
  },
  {
   "cell_type": "markdown",
   "metadata": {
    "colab_type": "text",
    "id": "ro6v3JSBRsd5"
   },
   "source": [
    "Feature selection is important because:\n",
    "<ul>\n",
    "       <li> curse of dimentionality\n",
    "       <li> overfitting: the more features we have there is a higher risk of overfitting\n",
    "       <li> computational cost: most classification algorithms have exponential running time with respect to the dimention of the data.\n",
    "       <li> the quality of data: There are many features in the original data that do not help classify the data\n",
    "</ul>\n",
    "So, yes. It is important to do feature selection before doing classification. of course due to the fact that decsision trees are more prone to overfitting, than for example, SVM, it is more important in this case to do feature selection."
   ]
  },
  {
   "cell_type": "markdown",
   "metadata": {
    "colab_type": "text",
    "id": "eQjRm5a6j8KZ"
   },
   "source": [
    "## problem 5. mRMR (10 bonus points) </br>\n",
    "In this part you should write your own code and classify the data using mRMR method.You can use \"pymrmr\" package for this part."
   ]
  },
  {
   "cell_type": "code",
   "execution_count": 81,
   "metadata": {
    "colab": {},
    "colab_type": "code",
    "id": "xQs-LPupRoDx"
   },
   "outputs": [
    {
     "name": "stdout",
     "output_type": "stream",
     "text": [
      "0.9298245614035088\n"
     ]
    }
   ],
   "source": [
    "import pymrmr\n",
    "\n",
    "cancer = load_breast_cancer()  ## change if the data set changed\n",
    "df = pd.DataFrame(np.c_[cancer[\"target\"], cancer[\"data\"]], columns = np.append([\"target\"], cancer[\"feature_names\"]))\n",
    "features = ['mean radius', 'mean texture', 'mean perimeter', 'mean area', 'mean smoothness', 'mean compactness', 'mean concavity', 'mean concave points', 'mean symmetry', 'mean fractal dimension', 'radius error', 'texture error', 'perimeter error', 'area error', 'smoothness error', 'compactness error', 'concavity error', 'concave points error', 'symmetry error', 'fractal dimension error', 'worst radius', 'worst texture', 'worst perimeter', 'worst area', 'worst smoothness', 'worst compactness', 'worst concavity', 'worst concave points', 'worst symmetry', 'worst fractal dimension']\n",
    "cancer.target = np.where(cancer.target==0, -1, cancer.target)\n",
    "\n",
    "#X = cancer[\"data\"]\n",
    "#Y = cancer[\"target\"]\n",
    "\n",
    "X_train ,X_test ,X_val ,y_train ,y_test ,y_val = None ,None ,None ,None ,None ,None\n",
    "\n",
    "\n",
    "\n",
    "best_features = pymrmr.mRMR(df, 'MIQ', 15)\n",
    "X = np.array(df[best_features])\n",
    "Y = np.array(df[\"target\"])\n",
    "\n",
    "test_ratio = 0.2\n",
    "X_train, X_test, y_train, y_test = train_test_split(X, Y, shuffle=True, test_size= test_ratio)\n",
    "\n",
    "X_train_biased = np.insert(X_train, 0, 1, axis=1)\n",
    "X_test_biased = np.insert(X_test, 0, 1, axis = 1)\n",
    "\n",
    "\n",
    "\n",
    "clf = Perceptron(random_state=105)\n",
    "clf.fit(X_train_biased, y_train)\n",
    "preds = clf.predict(X_test_biased)\n",
    "print(accuracy_score(y_test, preds))"
   ]
  }
 ],
 "metadata": {
  "colab": {
   "collapsed_sections": [],
   "name": "MLBio_HW3_P.ipynb",
   "provenance": []
  },
  "kernelspec": {
   "display_name": "Python 3",
   "language": "python",
   "name": "python3"
  },
  "language_info": {
   "codemirror_mode": {
    "name": "ipython",
    "version": 3
   },
   "file_extension": ".py",
   "mimetype": "text/x-python",
   "name": "python",
   "nbconvert_exporter": "python",
   "pygments_lexer": "ipython3",
   "version": "3.6.3"
  }
 },
 "nbformat": 4,
 "nbformat_minor": 1
}
