{
 "cells": [
  {
   "cell_type": "code",
   "execution_count": 1,
   "metadata": {},
   "outputs": [],
   "source": [
    "from utils import *\n",
    "from kNN import *\n",
    "from decision_tree import *\n",
    "import matplotlib.pyplot as plt\n",
    "\n",
    "%matplotlib inline"
   ]
  },
  {
   "cell_type": "code",
   "execution_count": 3,
   "metadata": {},
   "outputs": [],
   "source": [
    "#data read\n",
    "np.random.seed(11)\n",
    "train_x, train_y, test_x, test_y = read_and_prepare(\"heart.csv\", \"target\", 0.8)"
   ]
  },
  {
   "cell_type": "code",
   "execution_count": 4,
   "metadata": {},
   "outputs": [
    {
     "name": "stdout",
     "output_type": "stream",
     "text": [
      "1\n",
      "2\n",
      "3\n",
      "4\n",
      "5\n",
      "6\n",
      "7\n",
      "8\n",
      "9\n",
      "10\n",
      "11\n",
      "12\n",
      "13\n",
      "[59.01639344262295, 85.24590163934425, 86.88524590163934, 93.44262295081968, 93.44262295081968, 93.44262295081968, 93.44262295081968, 93.44262295081968, 93.44262295081968, 93.44262295081968, 93.44262295081968, 93.44262295081968, 93.44262295081968]\n"
     ]
    },
    {
     "data": {
      "image/png": "[encoded data removed]",
      "text/plain": [
       "<matplotlib.figure.Figure at 0x2625bca0828>"
      ]
     },
     "metadata": {},
     "output_type": "display_data"
    }
   ],
   "source": [
    "#decision tree\n",
    "max_depth = 13\n",
    "\n",
    "\n",
    "accuracies = []\n",
    "for i in range(1, max_depth + 1):\n",
    "    dt = decision_tree(i, 0.8)\n",
    "    dt.fit(train_x, train_y)\n",
    "    preds = dt.test(test_x)\n",
    "    accuracies.append(accuracy(preds, test_y))\n",
    "    print(i)\n",
    "  \n",
    "\n",
    "preds_decision_tree = dt.test(test_x)\n",
    "print(accuracies)\n",
    "plt.plot([i for i in range(1, max_depth + 1)], accuracies)\n",
    "plt.axis([0, 15, 40, 100])\n",
    "plt.show()\n"
   ]
  },
  {
   "cell_type": "markdown",
   "metadata": {},
   "source": [
    "<div style=\"direction:rtl; font-size: 17px; font-family: 'XB Zar'; line-height: 200%\">\n",
    "<div style=\"font-size: 22px; font-weight: bold\">\n",
    "تحلیل درخت تصمیم</div>\n",
    "<br>            \n",
    "\n",
    "همانطور که در نمودار بالا مشاهده می‌کنید، دقت مدل با افزایش عمق ابتدا افزایش یافته و سپس تقریبا ثابت می‌ماند و می‌توان گفت از عمق 5 به بعد دقت مدل افزایش نمی‌یابد. \n",
    "\n",
    "<br>\n",
    "خیر زیرا برای یافتن عمق مناسب از داده‌ی تست استفاده کرده‌ایم و این معیار مناسب نمی‌باشد زیرا باید مدل را روی داده‌ای که تا کنون مدل ندیده‌ است و از آن در آموزش و ساخت مدل استفاده نشده است، تست کرد.\n",
    "</div>    "
   ]
  },
  {
   "cell_type": "code",
   "execution_count": 19,
   "metadata": {},
   "outputs": [
    {
     "name": "stdout",
     "output_type": "stream",
     "text": [
      "1\n",
      "2\n",
      "3\n",
      "4\n",
      "5\n",
      "6\n",
      "7\n",
      "8\n",
      "9\n",
      "10\n",
      "11\n",
      "12\n",
      "13\n",
      "14\n",
      "15\n",
      "[59.01639344262295, 59.01639344262295, 63.934426229508205, 57.377049180327866, 70.49180327868852, 65.57377049180327, 68.85245901639344, 65.57377049180327, 67.21311475409836, 59.01639344262295, 62.295081967213115, 59.01639344262295, 60.65573770491803, 60.65573770491803, 67.21311475409836]\n"
     ]
    },
    {
     "data": {
      "image/png": "[encoded data removed]",
      "text/plain": [
       "<matplotlib.figure.Figure at 0x2624eaa8748>"
      ]
     },
     "metadata": {},
     "output_type": "display_data"
    }
   ],
   "source": [
    "#knn\n",
    "max_k = 15\n",
    "\n",
    "accuracies = []\n",
    "for i in range(1, max_k + 1):\n",
    "    knn = kNN(i)\n",
    "    knn.fit(train_x, train_y)\n",
    "    preds = knn.test(test_x)\n",
    "    accuracies.append(accuracy(preds, test_y))\n",
    "    print(i)\n",
    "\n",
    "print(accuracies)\n",
    "plt.plot([i for i in range(1, max_k + 1)], accuracies)\n",
    "plt.axis([0, 20, 40, 100])\n",
    "plt.show()\n"
   ]
  },
  {
   "cell_type": "code",
   "execution_count": 6,
   "metadata": {},
   "outputs": [
    {
     "name": "stdout",
     "output_type": "stream",
     "text": [
      "1\n",
      "2\n",
      "3\n",
      "4\n",
      "5\n",
      "6\n",
      "7\n",
      "8\n",
      "9\n",
      "10\n",
      "11\n",
      "12\n",
      "13\n",
      "14\n",
      "15\n",
      "68.85245901639344\n"
     ]
    }
   ],
   "source": [
    "#5 fold validation\n",
    "\n",
    "best_param = 0\n",
    "best_acc = 0\n",
    "best_model = None\n",
    "for i in range(1, max_k + 1):\n",
    "    knn = kNN(i)\n",
    "    val_x, val_y = make_cross_val(train_x, train_y, 5)\n",
    "\n",
    "    c = i % 5\n",
    "    train_x_new = val_x[c][1]\n",
    "    train_y_new = val_y[c][1]\n",
    "\n",
    "    val_set_x = val_x[c][0]\n",
    "    val_set_y = val_y[c][0]\n",
    "\n",
    "\n",
    "    knn.fit(train_x_new, train_y_new)\n",
    "    preds = knn.test(val_set_x)\n",
    "    acc = accuracy(preds, val_set_y)\n",
    "    if acc > best_acc:\n",
    "        best_acc = acc\n",
    "        best_param = i\n",
    "        best_model = knn\n",
    "    print(i)\n",
    "    \n",
    "preds_knn = best_model.test(test_x)\n",
    "acc = accuracy(preds_knn, test_y)\n",
    "print(acc)\n"
   ]
  },
  {
   "cell_type": "code",
   "execution_count": 18,
   "metadata": {},
   "outputs": [
    {
     "name": "stdout",
     "output_type": "stream",
     "text": [
      "[[34, 2], [2, 23]]\n",
      "accuracy:  93.44262295081968\n",
      "percision:  0.9444444444444444\n",
      "recall:  0.9444444444444444\n",
      "specificity:  0.92\n",
      "f1-score:  0.9444444444444444\n"
     ]
    }
   ],
   "source": [
    "cf_decision = confusion_matrix(preds_decision_tree, test_y)\n",
    "print(cf_decision)\n",
    "\n",
    "r_decision = classification_report(preds_decision_tree, test_y)\n",
    "r_decision.print_report()"
   ]
  },
  {
   "cell_type": "code",
   "execution_count": 17,
   "metadata": {},
   "outputs": [
    {
     "name": "stdout",
     "output_type": "stream",
     "text": [
      "[[27, 10], [9, 15]]\n",
      "accuracy:  68.85245901639344\n",
      "percision:  0.7297297297297297\n",
      "recall:  0.75\n",
      "specificity:  0.6\n",
      "f1-score:  0.7397260273972601\n"
     ]
    }
   ],
   "source": [
    "cf_knn = confusion_matrix(preds_knn, test_y)\n",
    "print(cf_knn)\n",
    "\n",
    "r_knn = classification_report(preds_knn, test_y)\n",
    "r_knn.print_report()"
   ]
  },
  {
   "cell_type": "code",
   "execution_count": 7,
   "metadata": {},
   "outputs": [
    {
     "data": {
      "text/plain": [
       "-0.18318582636182815"
      ]
     },
     "execution_count": 7,
     "metadata": {},
     "output_type": "execute_result"
    }
   ],
   "source": [
    "t_test(preds_decision_tree, preds_knn)"
   ]
  },
  {
   "cell_type": "markdown",
   "metadata": {},
   "source": [
    "<div style=\"direction:rtl; font-size: 17px; font-family: 'XB Zar'; line-height: 200%\">\n",
    "<div style=\"font-size: 22px; font-weight: bold\">\n",
    "تحلیل تست t</div>\n",
    "<br>            \n",
    "از عدد به دست آمده پیدا است که توزیعی که توسط دو مدل پیدا شده است به یکدیگر نزدیکند.\n",
    "</div>    "
   ]
  }
 ],
 "metadata": {
  "kernelspec": {
   "display_name": "Python 3",
   "language": "python",
   "name": "python3"
  },
  "language_info": {
   "codemirror_mode": {
    "name": "ipython",
    "version": 3
   },
   "file_extension": ".py",
   "mimetype": "text/x-python",
   "name": "python",
   "nbconvert_exporter": "python",
   "pygments_lexer": "ipython3",
   "version": "3.6.3"
  }
 },
 "nbformat": 4,
 "nbformat_minor": 2
}
