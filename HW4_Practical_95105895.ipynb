{
 "cells": [
  {
   "cell_type": "markdown",
   "metadata": {
    "colab_type": "text",
    "id": "uvXSx2_9qxMn"
   },
   "source": [
    "#  Machine Learning for Bioinformatics\n",
    "## Practical Homework No.4 (100 points)"
   ]
  },
  {
   "cell_type": "markdown",
   "metadata": {
    "colab_type": "text",
    "id": "kXhZtIIaq69Y"
   },
   "source": [
    "#### Name: Aryan Mikaeili\n",
    "#### Student No.: 95105895\n"
   ]
  },
  {
   "cell_type": "markdown",
   "metadata": {
    "colab_type": "text",
    "id": "OTQVem0I8SgS"
   },
   "source": [
    "## Imports"
   ]
  },
  {
   "cell_type": "markdown",
   "metadata": {
    "colab_type": "text",
    "id": "JgyrjEtdKY4k"
   },
   "source": [
    "run below cell to import necessary libraries. You are only allowed to use these libraries"
   ]
  },
  {
   "cell_type": "code",
   "execution_count": 2,
   "metadata": {
    "colab": {},
    "colab_type": "code",
    "id": "X4CELfLm8UpR"
   },
   "outputs": [],
   "source": [
    "import pandas as pd\n",
    "import numpy as np\n",
    "import matplotlib.pyplot as plt\n",
    "%matplotlib inline\n",
    "import seaborn as sns\n",
    "from sklearn.manifold import TSNE\n",
    "from sklearn.decomposition import PCA\n",
    "\n",
    "sns.set(rc={'figure.figsize':(11.7,8.27)})\n",
    "palette = sns.color_palette(\"bright\", 2)\n",
    "\n"
   ]
  },
  {
   "cell_type": "markdown",
   "metadata": {
    "colab_type": "text",
    "id": "hVgBVxJ4rqw3"
   },
   "source": [
    "## Dataset (10 points)"
   ]
  },
  {
   "cell_type": "markdown",
   "metadata": {
    "colab_type": "text",
    "id": "gSsTXPNcKPl-"
   },
   "source": [
    "This dataset comes from a proof-of-concept study published in 1999 by Golub et al. It showed how new cases of cancer could be classified by gene expression monitoring (via DNA microarray) and thereby provided a general approach for identifying new cancer classes and assigning tumors to known classes. These data were used to classify patients with acute myeloid leukemia (AML) and acute lymphoblastic leukemia (ALL)."
   ]
  },
  {
   "cell_type": "code",
   "execution_count": 3,
   "metadata": {
    "colab": {},
    "colab_type": "code",
    "id": "ICKMn_n9rtkv"
   },
   "outputs": [
    {
     "data": {
      "text/html": [
       "<div>\n",
       "<style scoped>\n",
       "    .dataframe tbody tr th:only-of-type {\n",
       "        vertical-align: middle;\n",
       "    }\n",
       "\n",
       "    .dataframe tbody tr th {\n",
       "        vertical-align: top;\n",
       "    }\n",
       "\n",
       "    .dataframe thead th {\n",
       "        text-align: right;\n",
       "    }\n",
       "</style>\n",
       "<table border=\"1\" class=\"dataframe\">\n",
       "  <thead>\n",
       "    <tr style=\"text-align: right;\">\n",
       "      <th></th>\n",
       "      <th>Gene Description</th>\n",
       "      <th>Gene Accession Number</th>\n",
       "      <th>1</th>\n",
       "      <th>2</th>\n",
       "      <th>3</th>\n",
       "      <th>4</th>\n",
       "      <th>5</th>\n",
       "      <th>6</th>\n",
       "      <th>7</th>\n",
       "      <th>8</th>\n",
       "      <th>...</th>\n",
       "      <th>57</th>\n",
       "      <th>58</th>\n",
       "      <th>60</th>\n",
       "      <th>61</th>\n",
       "      <th>65</th>\n",
       "      <th>66</th>\n",
       "      <th>63</th>\n",
       "      <th>64</th>\n",
       "      <th>62</th>\n",
       "      <th>72</th>\n",
       "    </tr>\n",
       "  </thead>\n",
       "  <tbody>\n",
       "    <tr>\n",
       "      <th>0</th>\n",
       "      <td>AFFX-BioB-5_at (endogenous control)</td>\n",
       "      <td>AFFX-BioB-5_at</td>\n",
       "      <td>-214</td>\n",
       "      <td>-139</td>\n",
       "      <td>-76</td>\n",
       "      <td>-135</td>\n",
       "      <td>-106</td>\n",
       "      <td>-138</td>\n",
       "      <td>-72</td>\n",
       "      <td>-413</td>\n",
       "      <td>...</td>\n",
       "      <td>-137</td>\n",
       "      <td>-157</td>\n",
       "      <td>-172</td>\n",
       "      <td>-47</td>\n",
       "      <td>-62</td>\n",
       "      <td>-58</td>\n",
       "      <td>-161</td>\n",
       "      <td>-48</td>\n",
       "      <td>-176</td>\n",
       "      <td>-131</td>\n",
       "    </tr>\n",
       "    <tr>\n",
       "      <th>1</th>\n",
       "      <td>AFFX-BioB-M_at (endogenous control)</td>\n",
       "      <td>AFFX-BioB-M_at</td>\n",
       "      <td>-153</td>\n",
       "      <td>-73</td>\n",
       "      <td>-49</td>\n",
       "      <td>-114</td>\n",
       "      <td>-125</td>\n",
       "      <td>-85</td>\n",
       "      <td>-144</td>\n",
       "      <td>-260</td>\n",
       "      <td>...</td>\n",
       "      <td>-51</td>\n",
       "      <td>-370</td>\n",
       "      <td>-122</td>\n",
       "      <td>-442</td>\n",
       "      <td>-198</td>\n",
       "      <td>-217</td>\n",
       "      <td>-215</td>\n",
       "      <td>-531</td>\n",
       "      <td>-284</td>\n",
       "      <td>-126</td>\n",
       "    </tr>\n",
       "    <tr>\n",
       "      <th>2</th>\n",
       "      <td>AFFX-BioB-3_at (endogenous control)</td>\n",
       "      <td>AFFX-BioB-3_at</td>\n",
       "      <td>-58</td>\n",
       "      <td>-1</td>\n",
       "      <td>-307</td>\n",
       "      <td>265</td>\n",
       "      <td>-76</td>\n",
       "      <td>215</td>\n",
       "      <td>238</td>\n",
       "      <td>7</td>\n",
       "      <td>...</td>\n",
       "      <td>-82</td>\n",
       "      <td>-77</td>\n",
       "      <td>38</td>\n",
       "      <td>-21</td>\n",
       "      <td>-5</td>\n",
       "      <td>63</td>\n",
       "      <td>-46</td>\n",
       "      <td>-124</td>\n",
       "      <td>-81</td>\n",
       "      <td>-50</td>\n",
       "    </tr>\n",
       "    <tr>\n",
       "      <th>3</th>\n",
       "      <td>AFFX-BioC-5_at (endogenous control)</td>\n",
       "      <td>AFFX-BioC-5_at</td>\n",
       "      <td>88</td>\n",
       "      <td>283</td>\n",
       "      <td>309</td>\n",
       "      <td>12</td>\n",
       "      <td>168</td>\n",
       "      <td>71</td>\n",
       "      <td>55</td>\n",
       "      <td>-2</td>\n",
       "      <td>...</td>\n",
       "      <td>178</td>\n",
       "      <td>340</td>\n",
       "      <td>31</td>\n",
       "      <td>396</td>\n",
       "      <td>141</td>\n",
       "      <td>95</td>\n",
       "      <td>146</td>\n",
       "      <td>431</td>\n",
       "      <td>9</td>\n",
       "      <td>211</td>\n",
       "    </tr>\n",
       "    <tr>\n",
       "      <th>4</th>\n",
       "      <td>AFFX-BioC-3_at (endogenous control)</td>\n",
       "      <td>AFFX-BioC-3_at</td>\n",
       "      <td>-295</td>\n",
       "      <td>-264</td>\n",
       "      <td>-376</td>\n",
       "      <td>-419</td>\n",
       "      <td>-230</td>\n",
       "      <td>-272</td>\n",
       "      <td>-399</td>\n",
       "      <td>-541</td>\n",
       "      <td>...</td>\n",
       "      <td>-135</td>\n",
       "      <td>-438</td>\n",
       "      <td>-201</td>\n",
       "      <td>-351</td>\n",
       "      <td>-256</td>\n",
       "      <td>-191</td>\n",
       "      <td>-172</td>\n",
       "      <td>-496</td>\n",
       "      <td>-294</td>\n",
       "      <td>-206</td>\n",
       "    </tr>\n",
       "  </tbody>\n",
       "</table>\n",
       "<p>5 rows × 74 columns</p>\n",
       "</div>"
      ],
      "text/plain": [
       "                      Gene Description Gene Accession Number    1    2    3  \\\n",
       "0  AFFX-BioB-5_at (endogenous control)        AFFX-BioB-5_at -214 -139  -76   \n",
       "1  AFFX-BioB-M_at (endogenous control)        AFFX-BioB-M_at -153  -73  -49   \n",
       "2  AFFX-BioB-3_at (endogenous control)        AFFX-BioB-3_at  -58   -1 -307   \n",
       "3  AFFX-BioC-5_at (endogenous control)        AFFX-BioC-5_at   88  283  309   \n",
       "4  AFFX-BioC-3_at (endogenous control)        AFFX-BioC-3_at -295 -264 -376   \n",
       "\n",
       "     4    5    6    7    8  ...   57   58   60   61   65   66   63   64   62  \\\n",
       "0 -135 -106 -138  -72 -413  ... -137 -157 -172  -47  -62  -58 -161  -48 -176   \n",
       "1 -114 -125  -85 -144 -260  ...  -51 -370 -122 -442 -198 -217 -215 -531 -284   \n",
       "2  265  -76  215  238    7  ...  -82  -77   38  -21   -5   63  -46 -124  -81   \n",
       "3   12  168   71   55   -2  ...  178  340   31  396  141   95  146  431    9   \n",
       "4 -419 -230 -272 -399 -541  ... -135 -438 -201 -351 -256 -191 -172 -496 -294   \n",
       "\n",
       "    72  \n",
       "0 -131  \n",
       "1 -126  \n",
       "2  -50  \n",
       "3  211  \n",
       "4 -206  \n",
       "\n",
       "[5 rows x 74 columns]"
      ]
     },
     "execution_count": 3,
     "metadata": {},
     "output_type": "execute_result"
    }
   ],
   "source": [
    "#####################################################################################\n",
    "#                          COMPLETE THE FOLLOWING SECTION                           #\n",
    "#####################################################################################\n",
    "# load all data using pandas. \n",
    "# DataSet.csv as train dataset.\n",
    "# labels.csv as data labels.\n",
    "# And Drop columns including call name as these columns as it doesn't have any \n",
    "# statistical relevance\n",
    "##################################################################################### \n",
    "Train_Data = pd.read_csv(\"DataSet.csv\")\n",
    "labels = pd.read_csv(\"labels.csv\")\n",
    "####################################################################################\n",
    "#                                   THE END                                        #\n",
    "####################################################################################  \n",
    "Train_Data.head()\n"
   ]
  },
  {
   "cell_type": "markdown",
   "metadata": {
    "colab_type": "text",
    "id": "yEVNpveEPL58"
   },
   "source": [
    "Here we go to pre process the data for pca analysis. do these steps one by one"
   ]
  },
  {
   "cell_type": "code",
   "execution_count": 4,
   "metadata": {
    "colab": {},
    "colab_type": "code",
    "id": "O5PpJg558njC"
   },
   "outputs": [],
   "source": [
    "#####################################################################################\n",
    "#                          COMPLETE THE FOLLOWING SECTION                           #\n",
    "#####################################################################################\n",
    "# Drop Gene Description and Gene Accession Number to have a numeric matrix.\n",
    "# the result should be stored in train variable.\n",
    "#####################################################################################\n",
    "train = Train_Data.drop([\"Gene Description\", \"Gene Accession Number\"],axis=1)\n",
    "####################################################################################\n",
    "#                                   THE END                                        #\n",
    "####################################################################################  \n",
    "train.index = pd.to_numeric(train.index)\n",
    "train.sort_index(inplace=True)\n"
   ]
  },
  {
   "cell_type": "markdown",
   "metadata": {
    "colab_type": "text",
    "id": "gppaxpk-RtXD"
   },
   "source": [
    "## Variable Selection\n",
    "\n",
    "To reduce the computation costs, instead of working on all 20184 genes present in the dataset, we will focus on 1000 genes that have the most variance."
   ]
  },
  {
   "cell_type": "code",
   "execution_count": 5,
   "metadata": {
    "colab": {},
    "colab_type": "code",
    "id": "ajzcaXDXRr-P"
   },
   "outputs": [
    {
     "data": {
      "text/html": [
       "<div>\n",
       "<style scoped>\n",
       "    .dataframe tbody tr th:only-of-type {\n",
       "        vertical-align: middle;\n",
       "    }\n",
       "\n",
       "    .dataframe tbody tr th {\n",
       "        vertical-align: top;\n",
       "    }\n",
       "\n",
       "    .dataframe thead th {\n",
       "        text-align: right;\n",
       "    }\n",
       "</style>\n",
       "<table border=\"1\" class=\"dataframe\">\n",
       "  <thead>\n",
       "    <tr style=\"text-align: right;\">\n",
       "      <th></th>\n",
       "      <th>7037</th>\n",
       "      <th>2048</th>\n",
       "      <th>6076</th>\n",
       "      <th>1267</th>\n",
       "      <th>6567</th>\n",
       "      <th>4864</th>\n",
       "      <th>1198</th>\n",
       "      <th>5923</th>\n",
       "      <th>6372</th>\n",
       "      <th>1569</th>\n",
       "      <th>...</th>\n",
       "      <th>4016</th>\n",
       "      <th>6223</th>\n",
       "      <th>1221</th>\n",
       "      <th>5228</th>\n",
       "      <th>5647</th>\n",
       "      <th>1867</th>\n",
       "      <th>5506</th>\n",
       "      <th>18</th>\n",
       "      <th>5710</th>\n",
       "      <th>5709</th>\n",
       "    </tr>\n",
       "  </thead>\n",
       "  <tbody>\n",
       "    <tr>\n",
       "      <th>1</th>\n",
       "      <td>1183</td>\n",
       "      <td>1917</td>\n",
       "      <td>730</td>\n",
       "      <td>536</td>\n",
       "      <td>1624</td>\n",
       "      <td>788</td>\n",
       "      <td>-796</td>\n",
       "      <td>509</td>\n",
       "      <td>695</td>\n",
       "      <td>443</td>\n",
       "      <td>...</td>\n",
       "      <td>19748</td>\n",
       "      <td>-113</td>\n",
       "      <td>20764</td>\n",
       "      <td>8656</td>\n",
       "      <td>31086</td>\n",
       "      <td>-272</td>\n",
       "      <td>21011</td>\n",
       "      <td>15091</td>\n",
       "      <td>17962</td>\n",
       "      <td>17602</td>\n",
       "    </tr>\n",
       "    <tr>\n",
       "      <th>2</th>\n",
       "      <td>1434</td>\n",
       "      <td>1603</td>\n",
       "      <td>131</td>\n",
       "      <td>1258</td>\n",
       "      <td>238</td>\n",
       "      <td>1691</td>\n",
       "      <td>-970</td>\n",
       "      <td>286</td>\n",
       "      <td>812</td>\n",
       "      <td>389</td>\n",
       "      <td>...</td>\n",
       "      <td>7657</td>\n",
       "      <td>4452</td>\n",
       "      <td>17636</td>\n",
       "      <td>13285</td>\n",
       "      <td>29288</td>\n",
       "      <td>-194</td>\n",
       "      <td>25240</td>\n",
       "      <td>11038</td>\n",
       "      <td>16964</td>\n",
       "      <td>9868</td>\n",
       "    </tr>\n",
       "    <tr>\n",
       "      <th>3</th>\n",
       "      <td>2022</td>\n",
       "      <td>3200</td>\n",
       "      <td>91</td>\n",
       "      <td>2098</td>\n",
       "      <td>1081</td>\n",
       "      <td>1029</td>\n",
       "      <td>-2111</td>\n",
       "      <td>610</td>\n",
       "      <td>810</td>\n",
       "      <td>443</td>\n",
       "      <td>...</td>\n",
       "      <td>1032</td>\n",
       "      <td>775</td>\n",
       "      <td>23324</td>\n",
       "      <td>15704</td>\n",
       "      <td>14835</td>\n",
       "      <td>-79</td>\n",
       "      <td>14950</td>\n",
       "      <td>16692</td>\n",
       "      <td>23436</td>\n",
       "      <td>28056</td>\n",
       "    </tr>\n",
       "    <tr>\n",
       "      <th>4</th>\n",
       "      <td>2615</td>\n",
       "      <td>1416</td>\n",
       "      <td>49</td>\n",
       "      <td>254</td>\n",
       "      <td>1223</td>\n",
       "      <td>695</td>\n",
       "      <td>-1555</td>\n",
       "      <td>294</td>\n",
       "      <td>599</td>\n",
       "      <td>509</td>\n",
       "      <td>...</td>\n",
       "      <td>13356</td>\n",
       "      <td>157</td>\n",
       "      <td>21733</td>\n",
       "      <td>15691</td>\n",
       "      <td>25421</td>\n",
       "      <td>-300</td>\n",
       "      <td>31449</td>\n",
       "      <td>15763</td>\n",
       "      <td>22240</td>\n",
       "      <td>23812</td>\n",
       "    </tr>\n",
       "    <tr>\n",
       "      <th>5</th>\n",
       "      <td>924</td>\n",
       "      <td>1749</td>\n",
       "      <td>0</td>\n",
       "      <td>127</td>\n",
       "      <td>761</td>\n",
       "      <td>1627</td>\n",
       "      <td>-331</td>\n",
       "      <td>375</td>\n",
       "      <td>282</td>\n",
       "      <td>35</td>\n",
       "      <td>...</td>\n",
       "      <td>13769</td>\n",
       "      <td>2175</td>\n",
       "      <td>20332</td>\n",
       "      <td>3390</td>\n",
       "      <td>29543</td>\n",
       "      <td>-157</td>\n",
       "      <td>12606</td>\n",
       "      <td>18128</td>\n",
       "      <td>5472</td>\n",
       "      <td>3553</td>\n",
       "    </tr>\n",
       "  </tbody>\n",
       "</table>\n",
       "<p>5 rows × 1000 columns</p>\n",
       "</div>"
      ],
      "text/plain": [
       "   7037  2048  6076  1267  6567  4864  1198  5923  6372  1569  ...   4016  \\\n",
       "1  1183  1917   730   536  1624   788  -796   509   695   443  ...  19748   \n",
       "2  1434  1603   131  1258   238  1691  -970   286   812   389  ...   7657   \n",
       "3  2022  3200    91  2098  1081  1029 -2111   610   810   443  ...   1032   \n",
       "4  2615  1416    49   254  1223   695 -1555   294   599   509  ...  13356   \n",
       "5   924  1749     0   127   761  1627  -331   375   282    35  ...  13769   \n",
       "\n",
       "   6223   1221   5228   5647  1867   5506   18     5710   5709  \n",
       "1  -113  20764   8656  31086  -272  21011  15091  17962  17602  \n",
       "2  4452  17636  13285  29288  -194  25240  11038  16964   9868  \n",
       "3   775  23324  15704  14835   -79  14950  16692  23436  28056  \n",
       "4   157  21733  15691  25421  -300  31449  15763  22240  23812  \n",
       "5  2175  20332   3390  29543  -157  12606  18128   5472   3553  \n",
       "\n",
       "[5 rows x 1000 columns]"
      ]
     },
     "execution_count": 5,
     "metadata": {},
     "output_type": "execute_result"
    }
   ],
   "source": [
    "# TODO: limited_data should contain columns of data corresponding to genes with most variance\n",
    "limited_data = train.iloc[list(train.std(axis = 1).sort_values()[-1000:].index),:].T\n",
    "\n",
    "limited_data.head()\n",
    "\n"
   ]
  },
  {
   "cell_type": "markdown",
   "metadata": {
    "colab_type": "text",
    "id": "O8WfvVXYrvZA"
   },
   "source": [
    "## PCA (30 points)\n"
   ]
  },
  {
   "cell_type": "markdown",
   "metadata": {
    "colab_type": "text",
    "id": "GNlO2lGATkiA"
   },
   "source": [
    "Implement PCA. Then use it to project the data to the latent space. Finally, reconstruct the data and report the reconstruction error for both training and test datasets. Note that you should implement the PCA, so using existing libraries is not allowed. you should use numpy to compute eigenvectors/eigenvalues of a matrix."
   ]
  },
  {
   "cell_type": "code",
   "execution_count": 6,
   "metadata": {
    "colab": {},
    "colab_type": "code",
    "id": "VcaZiPwFPupP"
   },
   "outputs": [],
   "source": [
    "def loss_function(a, b):\n",
    "  #####################################################################################\n",
    "  #                          COMPLETE THE FOLLOWING SECTION                           #\n",
    "  #####################################################################################\n",
    "  # Implement a function that given the original data and a\n",
    "  # reconstructed version, returns the reconstruction's mean squared error.\n",
    "  #####################################################################################\n",
    "    N = a.shape[1] * a.shape[0]\n",
    "    result = np.linalg.norm(a - b) / N\n",
    "\n",
    "  ####################################################################################\n",
    "  #                                   THE END                                        #\n",
    "  #################################################################################### \n",
    "    return result"
   ]
  },
  {
   "cell_type": "code",
   "execution_count": 7,
   "metadata": {
    "colab": {},
    "colab_type": "code",
    "id": "K45o0KZaT3XY"
   },
   "outputs": [],
   "source": [
    "def PCA(X, n_components=72):\n",
    "    #####################################################################################\n",
    "    #                          COMPLETE THE FOLLOWING SECTION                           #\n",
    "    #####################################################################################\n",
    "    # X: a vector of shape (N, M)\n",
    "    # n_components: size of latent space (< M)\n",
    "    # returns a vector of shape (n_components, M) containing the first `n_components` PCs.\n",
    "    #####################################################################################\n",
    "    vector = None\n",
    "\n",
    "    X_hat = X - X.mean(axis = 0)\n",
    "    S = X_hat.cov()\n",
    "    eig_vals, eig_vecs = np.linalg.eig(S)\n",
    "    eig_vecs = eig_vecs[:, np.flip(np.argsort(eig_vals), axis = 0)]\n",
    "    vector = eig_vecs[:,:n_components].real\n",
    "    ##just returning the real part because the covariance matrix is semi-definite and the imaginary values(if any)\n",
    "    ##are computation errors and very close to 0\n",
    "\n",
    "    ####################################################################################\n",
    "    #                                   THE END                                        #\n",
    "    #################################################################################### \n",
    "    return vector"
   ]
  },
  {
   "cell_type": "code",
   "execution_count": 8,
   "metadata": {
    "colab": {},
    "colab_type": "code",
    "id": "L06lCh8I-0F2"
   },
   "outputs": [],
   "source": [
    "pca = PCA(limited_data)"
   ]
  },
  {
   "cell_type": "code",
   "execution_count": 9,
   "metadata": {
    "colab": {},
    "colab_type": "code",
    "id": "u8KGa5L9tf_j"
   },
   "outputs": [],
   "source": [
    "def reconstruct_PCA(X : pd.DataFrame):\n",
    "    #####################################################################################\n",
    "    #                          COMPLETE THE FOLLOWING SECTION                           #\n",
    "    #####################################################################################\n",
    "    # Compute PCs for the X.\n",
    "    # Project X to the space of computed PCs.\n",
    "    # Reconstruct X from projected data.\n",
    "    #####################################################################################\n",
    "    principal_components = PCA(X)\n",
    "    m = X.mean(axis = 0)\n",
    "    X = X.values\n",
    "    projected_data = np.matmul(X - m.values, principal_components)\n",
    "    reconstructed_data = np.matmul(projected_data, principal_components.T) + m.values\n",
    "    ####################################################################################\n",
    "    #                                   THE END                                        #\n",
    "    ####################################################################################     \n",
    "    return reconstructed_data\n"
   ]
  },
  {
   "cell_type": "code",
   "execution_count": 10,
   "metadata": {
    "colab": {},
    "colab_type": "code",
    "id": "uxyrH2Wq_CQv"
   },
   "outputs": [],
   "source": [
    "pca_rec = reconstruct_PCA(limited_data)"
   ]
  },
  {
   "cell_type": "code",
   "execution_count": 11,
   "metadata": {
    "colab": {},
    "colab_type": "code",
    "id": "W9-zt2Gp9y52",
    "scrolled": true
   },
   "outputs": [
    {
     "data": {
      "text/plain": [
       "8.597072296077675e-14"
      ]
     },
     "execution_count": 11,
     "metadata": {},
     "output_type": "execute_result"
    }
   ],
   "source": [
    "## Run This cell to find how your functions working!\n",
    "loss_function(pca_rec , limited_data.values.tolist())"
   ]
  },
  {
   "cell_type": "markdown",
   "metadata": {
    "colab_type": "text",
    "id": "RmGUESkSthcB"
   },
   "source": [
    "## K-Means (20 points)\n",
    "\n"
   ]
  },
  {
   "cell_type": "markdown",
   "metadata": {
    "colab_type": "text",
    "id": "WquMFXsuuYsi"
   },
   "source": [
    "read the below cell codes. this is using sklearn pca implementation. we use this function to use in our kmeans clustering."
   ]
  },
  {
   "cell_type": "code",
   "execution_count": 15,
   "metadata": {
    "colab": {},
    "colab_type": "code",
    "id": "weP1UN8ATaJi",
    "scrolled": false
   },
   "outputs": [
    {
     "data": {
      "text/html": [
       "<div>\n",
       "<style scoped>\n",
       "    .dataframe tbody tr th:only-of-type {\n",
       "        vertical-align: middle;\n",
       "    }\n",
       "\n",
       "    .dataframe tbody tr th {\n",
       "        vertical-align: top;\n",
       "    }\n",
       "\n",
       "    .dataframe thead th {\n",
       "        text-align: right;\n",
       "    }\n",
       "</style>\n",
       "<table border=\"1\" class=\"dataframe\">\n",
       "  <thead>\n",
       "    <tr style=\"text-align: right;\">\n",
       "      <th></th>\n",
       "      <th>PC1</th>\n",
       "      <th>PC2</th>\n",
       "      <th>cancer</th>\n",
       "    </tr>\n",
       "  </thead>\n",
       "  <tbody>\n",
       "    <tr>\n",
       "      <th>0</th>\n",
       "      <td>4.341201</td>\n",
       "      <td>-4.770876</td>\n",
       "      <td>ALL</td>\n",
       "    </tr>\n",
       "    <tr>\n",
       "      <th>1</th>\n",
       "      <td>14.195648</td>\n",
       "      <td>1.693615</td>\n",
       "      <td>ALL</td>\n",
       "    </tr>\n",
       "    <tr>\n",
       "      <th>2</th>\n",
       "      <td>14.183927</td>\n",
       "      <td>-1.751281</td>\n",
       "      <td>ALL</td>\n",
       "    </tr>\n",
       "    <tr>\n",
       "      <th>3</th>\n",
       "      <td>1.756293</td>\n",
       "      <td>-3.357066</td>\n",
       "      <td>ALL</td>\n",
       "    </tr>\n",
       "    <tr>\n",
       "      <th>4</th>\n",
       "      <td>11.519685</td>\n",
       "      <td>-9.365314</td>\n",
       "      <td>ALL</td>\n",
       "    </tr>\n",
       "    <tr>\n",
       "      <th>...</th>\n",
       "      <td>...</td>\n",
       "      <td>...</td>\n",
       "      <td>...</td>\n",
       "    </tr>\n",
       "    <tr>\n",
       "      <th>67</th>\n",
       "      <td>-9.111561</td>\n",
       "      <td>-8.859135</td>\n",
       "      <td>ALL</td>\n",
       "    </tr>\n",
       "    <tr>\n",
       "      <th>68</th>\n",
       "      <td>9.836477</td>\n",
       "      <td>22.720626</td>\n",
       "      <td>ALL</td>\n",
       "    </tr>\n",
       "    <tr>\n",
       "      <th>69</th>\n",
       "      <td>-1.017386</td>\n",
       "      <td>19.754260</td>\n",
       "      <td>ALL</td>\n",
       "    </tr>\n",
       "    <tr>\n",
       "      <th>70</th>\n",
       "      <td>-4.869207</td>\n",
       "      <td>17.797069</td>\n",
       "      <td>ALL</td>\n",
       "    </tr>\n",
       "    <tr>\n",
       "      <th>71</th>\n",
       "      <td>1.404915</td>\n",
       "      <td>-5.935690</td>\n",
       "      <td>ALL</td>\n",
       "    </tr>\n",
       "  </tbody>\n",
       "</table>\n",
       "<p>72 rows × 3 columns</p>\n",
       "</div>"
      ],
      "text/plain": [
       "          PC1        PC2 cancer\n",
       "0    4.341201  -4.770876    ALL\n",
       "1   14.195648   1.693615    ALL\n",
       "2   14.183927  -1.751281    ALL\n",
       "3    1.756293  -3.357066    ALL\n",
       "4   11.519685  -9.365314    ALL\n",
       "..        ...        ...    ...\n",
       "67  -9.111561  -8.859135    ALL\n",
       "68   9.836477  22.720626    ALL\n",
       "69  -1.017386  19.754260    ALL\n",
       "70  -4.869207  17.797069    ALL\n",
       "71   1.404915  -5.935690    ALL\n",
       "\n",
       "[72 rows x 3 columns]"
      ]
     },
     "execution_count": 15,
     "metadata": {},
     "output_type": "execute_result"
    }
   ],
   "source": [
    "from sklearn.preprocessing import StandardScaler\n",
    "from sklearn.decomposition import PCA\n",
    "x_norm = StandardScaler().fit_transform(limited_data)\n",
    "pca = PCA(n_components=2)\n",
    "principalComponents = pca.fit_transform(x_norm)\n",
    "principalDf = pd.DataFrame(data = principalComponents\n",
    "             , columns = ['PC1', 'PC2'])\n",
    "principalDf = principalDf.set_index(labels.index)\n",
    "finalDf = pd.concat([principalDf, labels['cancer']], axis = 1)\n",
    "finalDf\n"
   ]
  },
  {
   "cell_type": "code",
   "execution_count": null,
   "metadata": {},
   "outputs": [],
   "source": []
  },
  {
   "cell_type": "markdown",
   "metadata": {
    "colab_type": "text",
    "id": "PdOAi2mSkZKR"
   },
   "source": [
    "here we try to initialize centroids. Note that we already knows we have two cluster, So from our prior knowledge we define number of clusters equal to two."
   ]
  },
  {
   "cell_type": "code",
   "execution_count": 98,
   "metadata": {
    "colab": {},
    "colab_type": "code",
    "id": "f2ZM3kLwvX_n"
   },
   "outputs": [
    {
     "name": "stdout",
     "output_type": "stream",
     "text": [
      "[[ 4. 11.]\n",
      " [11. 27.]]\n"
     ]
    }
   ],
   "source": [
    "np.random.seed(600)\n",
    "# Number of clusters\n",
    "k = 2\n",
    "X = np.array(list(zip(finalDf['PC1'], finalDf['PC2'])))\n",
    "# X coordinates of random centroids\n",
    "C_x = np.random.randint(0, np.max(X)-20, size=k)\n",
    "# Y coordinates of random centroids\n",
    "C_y = np.random.randint(0, np.max(X)-20, size=k)\n",
    "C = np.array(list(zip(C_x, C_y)), dtype=np.float32)\n",
    "print(C)"
   ]
  },
  {
   "cell_type": "markdown",
   "metadata": {
    "colab_type": "text",
    "id": "7hyU49kHkqhD"
   },
   "source": [
    "Now you can see the unlabeled data and our initialization data by running following cell"
   ]
  },
  {
   "cell_type": "code",
   "execution_count": 99,
   "metadata": {
    "colab": {},
    "colab_type": "code",
    "id": "44In_GGZvuHh"
   },
   "outputs": [
    {
     "data": {
      "text/plain": [
       "<matplotlib.collections.PathCollection at 0x20a4c802630>"
      ]
     },
     "execution_count": 99,
     "metadata": {},
     "output_type": "execute_result"
    },
    {
     "data": {
      "image/png": "[encoded data removed]",
      "text/plain": [
       "<matplotlib.figure.Figure at 0x20a4c78b2e8>"
      ]
     },
     "metadata": {},
     "output_type": "display_data"
    }
   ],
   "source": [
    "# Plotting along with the Centroids\n",
    "plt.scatter(finalDf['PC1'], finalDf['PC2'], c='#050505', s=7)\n",
    "plt.scatter(C_x, C_y, marker='*', s=200, c='g')"
   ]
  },
  {
   "cell_type": "markdown",
   "metadata": {
    "colab_type": "text",
    "id": "ugKD1qEDkzLZ"
   },
   "source": [
    "It's your turn. Implement K-Means function which return a np.array with size equal to your data. this array contain each point label that you assigned using kmeans clustering."
   ]
  },
  {
   "cell_type": "code",
   "execution_count": 100,
   "metadata": {
    "colab": {},
    "colab_type": "code",
    "id": "KCu4Q92Uv6mQ"
   },
   "outputs": [],
   "source": [
    "def Kmeans(X, Centroids):\n",
    "      clusters = np.zeros(len(X))\n",
    "      # To store the value of centroids when it updates\n",
    "      C = Centroids\n",
    "      C_old = np.zeros(C.shape)\n",
    "      # Cluster Lables(0, 1)\n",
    "      clusters = np.zeros(len(X))\n",
    "      # Error func. - Distance between new centroids and old centroids\n",
    "      error = np.linalg.norm(C - C_old)\n",
    "      ####################################################################################\n",
    "      #                          COMPLETE THE FOLLOWING SECTION                          #\n",
    "      ####################################################################################\n",
    "      # Implement K-Means Clustering\n",
    "      # Assigning each value to its closest cluster\n",
    "      # Storing the old centroid values\n",
    "      # Finding the new centroids by taking the average value\n",
    "      # clusters variable should contain (0,1) labels. 0 for first cluster and 1 for the second. \n",
    "      ####################################################################################\n",
    "      # Loop will run till the error becomes zero\n",
    "      # Do Not Forget to update error condition.\n",
    "      while error != 0:\n",
    "        data_sq = np.repeat([np.power(np.linalg.norm(X, axis=1), 2)], C.shape[0], axis=0).T\n",
    "        eps_sq = np.repeat([np.power(np.linalg.norm(C, axis=1), 2)], X.shape[0], axis=0)\n",
    "        te = 2 * np.matmul(X, C.T)\n",
    "        dists = np.sqrt(data_sq + eps_sq - te)\n",
    "        clusters = np.argmin(dists, axis=1)\n",
    "        C_old = np.copy(C)\n",
    "        for j in range(2):\n",
    "            if len(X[clusters == j]) > 0:\n",
    "                C[j] = np.mean(X[clusters == j], axis=0)\n",
    "            else:\n",
    "                C[j] = np.mean(np.concatenate([C[:j, ], C[j + 1:, ]], axis=0), axis=0)\n",
    "        num_clusters = np.unique(clusters,return_counts=True)[1]\n",
    "        print(num_clusters)\n",
    "        error = np.linalg.norm(C - C_old)\n",
    "        \n",
    "\n",
    "      ####################################################################################\n",
    "      #                                   THE END                                        #\n",
    "      ####################################################################################\n",
    "      return clusters"
   ]
  },
  {
   "cell_type": "code",
   "execution_count": 101,
   "metadata": {
    "colab": {},
    "colab_type": "code",
    "id": "_ZY4LglCj2Oz",
    "scrolled": true
   },
   "outputs": [
    {
     "name": "stdout",
     "output_type": "stream",
     "text": [
      "[67  5]\n",
      "[61 11]\n",
      "[58 14]\n",
      "[57 15]\n",
      "[55 17]\n",
      "[53 19]\n",
      "[53 19]\n"
     ]
    }
   ],
   "source": [
    "clusters = Kmeans(X, C)"
   ]
  },
  {
   "cell_type": "code",
   "execution_count": 123,
   "metadata": {},
   "outputs": [
    {
     "data": {
      "text/plain": [
       "(array(['ALL', 'AML'], dtype='<U3'), array([47, 25], dtype=int64))"
      ]
     },
     "execution_count": 123,
     "metadata": {},
     "output_type": "execute_result"
    }
   ],
   "source": []
  },
  {
   "cell_type": "markdown",
   "metadata": {
    "colab_type": "text",
    "id": "liuvdw6Ml7wZ"
   },
   "source": [
    "Now just run cell below to plot your result. "
   ]
  },
  {
   "cell_type": "code",
   "execution_count": 102,
   "metadata": {
    "colab": {},
    "colab_type": "code",
    "id": "GOam4hp1wbn4"
   },
   "outputs": [
    {
     "data": {
      "text/plain": [
       "<matplotlib.collections.PathCollection at 0x20a4c878048>"
      ]
     },
     "execution_count": 102,
     "metadata": {},
     "output_type": "execute_result"
    },
    {
     "data": {
      "image/png": "[encoded data removed]",
      "text/plain": [
       "<matplotlib.figure.Figure at 0x20a4c7bdc18>"
      ]
     },
     "metadata": {},
     "output_type": "display_data"
    }
   ],
   "source": [
    "colors = ['r', 'g', 'b', 'y', 'c', 'm']\n",
    "fig, ax = plt.subplots()\n",
    "for i in range(k):\n",
    "        points = np.array([X[j] for j in range(len(X)) if clusters[j] == i])\n",
    "        ax.scatter(points[:, 0], points[:, 1], s=20, c=colors[i])\n",
    "ax.scatter(C[:, 0], C[:, 1], marker='*', s=200, c='#050505')"
   ]
  },
  {
   "cell_type": "markdown",
   "metadata": {
    "colab_type": "text",
    "id": "fZPQjdLdMLmo"
   },
   "source": [
    "This part shows real labels of the samples. just run this cell and answer the next question. "
   ]
  },
  {
   "cell_type": "code",
   "execution_count": 21,
   "metadata": {
    "colab": {},
    "colab_type": "code",
    "id": "Qd6GZwJnMF8n"
   },
   "outputs": [
    {
     "data": {
      "text/plain": [
       "(-20, 25)"
      ]
     },
     "execution_count": 21,
     "metadata": {},
     "output_type": "execute_result"
    },
    {
     "data": {
      "image/png": "[encoded data removed]",
      "text/plain": [
       "<matplotlib.figure.Figure at 0x20a4b6df2e8>"
      ]
     },
     "metadata": {},
     "output_type": "display_data"
    }
   ],
   "source": [
    "fig = plt.figure(figsize=(10,10))\n",
    "ax = fig.add_subplot(1,1,1) \n",
    "ax.set_xlabel('PC1', fontsize=15)\n",
    "ax.set_ylabel('PC2', fontsize=15)\n",
    "ax.set_title('2 component PCA', fontsize=20)\n",
    "targets = ['ALL','AML']\n",
    "colors = ['r', 'g']\n",
    "for target, color in zip(targets,colors):\n",
    "    indicesToKeep = finalDf['cancer'] == target\n",
    "    ax.scatter(finalDf.loc[indicesToKeep, 'PC1'],\n",
    "               finalDf.loc[indicesToKeep, 'PC2'],\n",
    "               c=color,\n",
    "               s=50)\n",
    "ax.legend(targets)\n",
    "ax.grid()\n",
    "ax.set_xlim([-20, 25])\n",
    "ax.set_ylim([-20, 25])"
   ]
  },
  {
   "cell_type": "markdown",
   "metadata": {
    "colab_type": "text",
    "id": "NXv0R4dDNwoa"
   },
   "source": [
    "Compare your results with the figure above and tell us what will change if we change the random seed (try it with two or three different seeds) and what is the solution?"
   ]
  },
  {
   "cell_type": "markdown",
   "metadata": {
    "colab_type": "text",
    "id": "CmhXIZAFOgKZ"
   },
   "source": [
    "--> \n",
    "      because KNN is very dependant to its initial points, with different random seeds, the results differ. because the algorithm gets stuck in different locol minima. in particular, this data has many outliers and that causes a problem in clustering. however the algorithm is successful in clustering the points that are not close to eachother and couldn;t be in the same cluster.\n",
    "<--"
   ]
  },
  {
   "cell_type": "markdown",
   "metadata": {
    "colab_type": "text",
    "id": "YQN_77qvfrnE"
   },
   "source": [
    "## GMM (30 points)\n",
    "\n",
    "The EM algorithm for GMM can be simplified in the following steps:\n",
    "\n",
    "Assuming K is the number of clusters, and N is the number of data points\n",
    "\n",
    "\n",
    "$z_j^i$ is 1 if $x^i$ is generated from mixture j\n",
    "\n",
    "Initialize $\\mu_k$, $\\Sigma_k$ and $\\pi_k$ k=1,...K\n",
    "\n",
    "\n",
    "$\\theta=[\\pi,\\mu,\\Sigma]$\n",
    "## E step:\n",
    "$\\gamma_j^i=P(z_j^i=1|x^i, \\theta^{old})=\\frac{\\pi_j^{old}\\mathcal{N}(x^i|\\mu_j^{old},\\Sigma_j^{old})}{\\sum_{k=1}^K\\pi_k^{old}\\mathcal{N}(x^i|\\mu_k^{old},\\Sigma_k^{old})}$\n",
    "\n",
    "## M step:\n",
    "$\\mu_j^{new}=\\frac{\\sum_{i=1}^N \\gamma_j^i x^i}{\\sum_{i=1}^N \\gamma_j^i}$\n",
    "\n",
    "\n",
    "$\\Sigma_j^{new} = \\frac{1}{\\sum_{i=1}^N \\gamma_j^i} \\sum_{i=1}^N \\gamma_j^i (x^i-\\mu_j^{new}) (x^i-\\mu_j^{new})^T$\n",
    "\n",
    "\n",
    "$\\pi_j^{new} = \\frac{\\sum_{i=1}^N \\gamma_j^i}{N}$\n",
    "\n",
    "Repeat E and M steps until convergence.\n"
   ]
  },
  {
   "cell_type": "code",
   "execution_count": 63,
   "metadata": {
    "colab": {},
    "colab_type": "code",
    "id": "YdRTYxnefrnG"
   },
   "outputs": [],
   "source": [
    "from scipy.stats import multivariate_normal\n",
    "class GMM(object):\n",
    "    def __init__(self, x, k, iterations):\n",
    "        self.x = x\n",
    "        self.n = x.shape[0]  # data points\n",
    "        self.f = x.shape[1]  # features\n",
    "        self.k = k  # number of clusters\n",
    "        self.iterations = iterations\n",
    "\n",
    "        self.predictions = None\n",
    "\n",
    "        C_x = np.random.randint(0, np.max(x) - 20, size=k)\n",
    "        # Y coordinates of random centroids\n",
    "        C_y = np.random.randint(0, np.max(x) - 20, size=k)\n",
    "        C = np.array(list(zip(C_x, C_y)), dtype=np.float32)\n",
    "\n",
    "        clusters =Kmeans(x, C)\n",
    "\n",
    "        # TODO: initialte parameters\n",
    "        self.pi = np.ones((self.k,)) / self.k  # of size (k)\n",
    "        self.mu = np.zeros((self.k, self.f))  # of size (k, f)\n",
    "        self.sigma = np.zeros((self.k, self.f, self.f))  # of size (k, f, f)\n",
    "\n",
    "        for i in range(self.k):\n",
    "            self.mu[i] = np.mean(x[clusters == i], axis=0)\n",
    "            self.sigma[i] = np.cov(x[clusters == i].T)\n",
    "\n",
    "    def calc_gamma(self):\n",
    "        # TODO: calculate gamma matrix based on parameters and x\n",
    "        gammas = np.zeros((self.n, self.k))\n",
    "        for i in range(self.n):\n",
    "            for j in range(self.k):\n",
    "                gammas[i, j] = multivariate_normal.pdf(self.x[i], self.mu[j], self.sigma[j]) * self.pi[j]\n",
    "\n",
    "        for i in range(self.n):\n",
    "            gammas[i] = gammas[i] / np.sum(gammas[i])\n",
    "         # returns a matrix of shape (n, k) where n is the number of data points\n",
    "        return gammas\n",
    "        pass\n",
    "\n",
    "    def update_mu(self, gamma):\n",
    "        # TODO: update self.mu based on x and gamma matrix\n",
    "        self.mu = np.matmul(self.x.T, gamma).T / np.sum(gamma, axis=0)\n",
    "        #for i in range(self.k):\n",
    "            #self.mu[i] = self.mu[i] / np.sum(gamma[:,i])\n",
    "        pass\n",
    "\n",
    "    def update_sigma(self, gamma):\n",
    "        # TODO: update self.sigma based on x, mu and gamma matrix\n",
    "        for j in range(self.k):\n",
    "            self.sigma[j] = np.zeros((self.f, self.f))\n",
    "            for i in range(self.n):\n",
    "                normalized_x = self.x[i] - self.mu[j]\n",
    "                self.sigma[j] += (np.outer(normalized_x, normalized_x) * gamma[i, j])\n",
    "            self.sigma[j] = self.sigma[j] / np.sum(gamma[:,j])\n",
    "        pass\n",
    "\n",
    "    def update_pi(self, gamma):\n",
    "        # TODO: update self.pi based on gamma matrix\n",
    "        self.pi = np.sum(gamma, axis= 0) / self.n\n",
    "        pass\n",
    "\n",
    "    def fit(self):\n",
    "        for i in range(self.iterations):\n",
    "            gamma = self.calc_gamma()\n",
    "            self.update_mu(gamma)\n",
    "            self.update_sigma(gamma)\n",
    "            self.update_pi(gamma)\n",
    "            print(i)\n",
    "\n",
    "\n",
    "        # TODO: predict the mixture for each data\n",
    "        self.predicitions = np.zeros(self.n)\n",
    "        self.predictions = np.argmax(gamma, axis=1)"
   ]
  },
  {
   "cell_type": "code",
   "execution_count": 69,
   "metadata": {
    "colab": {},
    "colab_type": "code",
    "id": "qvcfZa_dfrnL"
   },
   "outputs": [
    {
     "name": "stdout",
     "output_type": "stream",
     "text": [
      "[55 17]\n",
      "[56 16]\n",
      "[56 16]\n",
      "0\n",
      "1\n",
      "2\n",
      "3\n",
      "4\n",
      "5\n",
      "6\n",
      "7\n",
      "8\n",
      "9\n",
      "10\n",
      "11\n",
      "12\n",
      "13\n",
      "14\n",
      "15\n",
      "16\n",
      "17\n",
      "18\n",
      "19\n",
      "20\n",
      "21\n",
      "22\n",
      "23\n",
      "24\n",
      "25\n",
      "26\n",
      "27\n",
      "28\n",
      "29\n",
      "30\n",
      "31\n",
      "32\n",
      "33\n",
      "34\n",
      "35\n",
      "36\n",
      "37\n",
      "38\n",
      "39\n",
      "40\n",
      "41\n",
      "42\n",
      "43\n",
      "44\n",
      "45\n",
      "46\n",
      "47\n",
      "48\n",
      "49\n",
      "50\n",
      "51\n",
      "52\n",
      "53\n",
      "54\n",
      "55\n",
      "56\n",
      "57\n",
      "58\n",
      "59\n",
      "60\n",
      "61\n",
      "62\n",
      "63\n",
      "64\n",
      "65\n",
      "66\n",
      "67\n",
      "68\n",
      "69\n",
      "70\n",
      "71\n",
      "72\n",
      "73\n",
      "74\n",
      "75\n",
      "76\n",
      "77\n",
      "78\n",
      "79\n",
      "80\n",
      "81\n",
      "82\n",
      "83\n",
      "84\n",
      "85\n",
      "86\n",
      "87\n",
      "88\n",
      "89\n",
      "90\n",
      "91\n",
      "92\n",
      "93\n",
      "94\n",
      "95\n",
      "96\n",
      "97\n",
      "98\n",
      "99\n",
      "(array([0, 1], dtype=int64), array([41, 31], dtype=int64))\n",
      "(array(['ALL', 'AML'], dtype=object), array([47, 25], dtype=int64))\n"
     ]
    }
   ],
   "source": [
    "gmm = GMM(X, 2, 100)\n",
    "gmm.fit()\n",
    "gmm_clusters = gmm.predictions \n",
    "print(np.unique(gmm_clusters, return_counts= True))\n",
    "print(np.unique(finalDf['cancer'],return_counts = True))"
   ]
  },
  {
   "cell_type": "code",
   "execution_count": 70,
   "metadata": {
    "colab": {},
    "colab_type": "code",
    "id": "iu-8ZKQLfrnQ"
   },
   "outputs": [
    {
     "data": {
      "text/plain": [
       "<matplotlib.collections.PathCollection at 0x20a4c1b9748>"
      ]
     },
     "execution_count": 70,
     "metadata": {},
     "output_type": "execute_result"
    },
    {
     "data": {
      "image/png": "[encoded data removed]",
      "text/plain": [
       "<matplotlib.figure.Figure at 0x20a4b6f4470>"
      ]
     },
     "metadata": {},
     "output_type": "display_data"
    }
   ],
   "source": [
    "fig, ax = plt.subplots()\n",
    "for i in range(k):\n",
    "        points = np.array([X[j] for j in range(len(X)) if gmm_clusters[j] == i])\n",
    "        ax.scatter(points[:, 0], points[:, 1], s=7, c=colors[i])\n",
    "ax.scatter(C[:, 0], C[:, 1], marker='*', s=200, c='#050505')\n",
    "ax.scatter(gmm.mu[:,0], gmm.mu[:, 1], marker='x', s=200, c='blue')"
   ]
  },
  {
   "cell_type": "markdown",
   "metadata": {
    "colab_type": "text",
    "id": "i8m21EhVfrnW"
   },
   "source": [
    "## t-SNE (10 points)"
   ]
  },
  {
   "cell_type": "markdown",
   "metadata": {
    "colab_type": "text",
    "id": "Jb8CAX8cfrnX"
   },
   "source": [
    "In this part we are using a generated dataset to test the effect of t-SNE hyperparameters.\n",
    "The data points are on two paralllel lines with a small additive noise."
   ]
  },
  {
   "cell_type": "code",
   "execution_count": 165,
   "metadata": {
    "colab": {},
    "colab_type": "code",
    "id": "6dBH6AmSfrnY"
   },
   "outputs": [
    {
     "name": "stdout",
     "output_type": "stream",
     "text": [
      "(200, 20)\n",
      "(200,)\n"
     ]
    }
   ],
   "source": [
    "# load the dataset\n",
    "\n",
    "X = np.load('X.npy')\n",
    "y = np.load('y.npy')\n",
    "print(X.shape)\n",
    "print(y.shape)"
   ]
  },
  {
   "cell_type": "code",
   "execution_count": 166,
   "metadata": {
    "colab": {},
    "colab_type": "code",
    "id": "oOzBZkaXfrnd",
    "scrolled": true
   },
   "outputs": [
    {
     "data": {
      "text/plain": [
       "<matplotlib.axes._subplots.AxesSubplot at 0x19404d4c080>"
      ]
     },
     "execution_count": 166,
     "metadata": {},
     "output_type": "execute_result"
    },
    {
     "data": {
      "image/png": "[encoded data removed]",
      "text/plain": [
       "<matplotlib.figure.Figure at 0x1940482e9b0>"
      ]
     },
     "metadata": {},
     "output_type": "display_data"
    }
   ],
   "source": [
    "# plot data in 2 dimensions using PCA\n",
    "pca = PCA(n_components=2)\n",
    "x_pca = pca.fit_transform(X)\n",
    "sns.scatterplot(x_pca[:,0], x_pca[:,1], hue=y, legend='full', palette=palette)"
   ]
  },
  {
   "cell_type": "markdown",
   "metadata": {
    "colab_type": "text",
    "id": "oNF9FTFYfrni"
   },
   "source": [
    "Find the best hyperparameters such that the output of t-SNE is similar to the output of PCA. Please make sure that your results are stable. Try running t-SNE a few times until you get the same results.\n",
    "\n",
    "You can use [this link](https://distill.pub/2016/misread-tsne/) for help!"
   ]
  },
  {
   "cell_type": "code",
   "execution_count": 388,
   "metadata": {
    "colab": {},
    "colab_type": "code",
    "id": "EoUsJV99frnj"
   },
   "outputs": [
    {
     "data": {
      "text/plain": [
       "<matplotlib.axes._subplots.AxesSubplot at 0x19422f4eac8>"
      ]
     },
     "execution_count": 388,
     "metadata": {},
     "output_type": "execute_result"
    },
    {
     "data": {
      "image/png": "[encoded data removed]",
      "text/plain": [
       "<matplotlib.figure.Figure at 0x1942365e240>"
      ]
     },
     "metadata": {},
     "output_type": "display_data"
    }
   ],
   "source": [
    "\n",
    "tsne = TSNE(perplexity = 96, n_iter = 7500, learning_rate = 250, random_state = 1500)\n",
    "#tsne = TSNE(perplexity = 45, n_iter = 7500, learning_rate = 250, random_state = 1)# TODO: set hyperparameters\n",
    "\n",
    "X_embedded = tsne.fit_transform(X)\n",
    "\n",
    "sns.scatterplot(X_embedded[:,0], X_embedded[:,1], hue=y, legend='full', palette=palette)"
   ]
  },
  {
   "cell_type": "markdown",
   "metadata": {
    "colab_type": "text",
    "id": "_YbMHsbafrno"
   },
   "source": [
    "Are the lines perfectly straight? Can you explain why? "
   ]
  },
  {
   "cell_type": "markdown",
   "metadata": {
    "colab_type": "text",
    "id": "GZ5VxOGcfrnp"
   },
   "source": [
    "--> \n",
    "the displayed graph is very similar to the original graph. however if we want to see straight lines we would better run the lower line with lower perplexity because in this way the model gives more attention to local structure and we can see a perfect line. however in the current state we give attention to the global structure. as a result the shape of the data would be preserved<--"
   ]
  }
 ],
 "metadata": {
  "colab": {
   "collapsed_sections": [],
   "name": "HW4_Practical.ipynb",
   "provenance": [],
   "toc_visible": true
  },
  "kernelspec": {
   "display_name": "Python 3",
   "language": "python",
   "name": "python3"
  },
  "language_info": {
   "codemirror_mode": {
    "name": "ipython",
    "version": 3
   },
   "file_extension": ".py",
   "mimetype": "text/x-python",
   "name": "python",
   "nbconvert_exporter": "python",
   "pygments_lexer": "ipython3",
   "version": "3.6.3"
  }
 },
 "nbformat": 4,
 "nbformat_minor": 1
}
