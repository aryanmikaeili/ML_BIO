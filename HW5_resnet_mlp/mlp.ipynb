{
 "cells": [
  {
   "cell_type": "code",
   "execution_count": 1,
   "metadata": {},
   "outputs": [],
   "source": [
    "from sklearn.datasets import load_iris\n",
    "import numpy as np\n",
    "from tqdm.notebook import tqdm\n",
    "from sklearn.metrics import accuracy_score\n",
    "import matplotlib.pyplot as plt\n",
    "\n",
    "import torch"
   ]
  },
  {
   "cell_type": "code",
   "execution_count": 2,
   "metadata": {},
   "outputs": [],
   "source": [
    "iris = load_iris()\n",
    "X = iris.data\n",
    "y = iris.target"
   ]
  },
  {
   "cell_type": "code",
   "execution_count": 3,
   "metadata": {},
   "outputs": [
    {
     "data": {
      "text/plain": [
       "((150, 4), (150,))"
      ]
     },
     "execution_count": 3,
     "metadata": {},
     "output_type": "execute_result"
    }
   ],
   "source": [
    "X.shape, y.shape"
   ]
  },
  {
   "cell_type": "code",
   "execution_count": 39,
   "metadata": {},
   "outputs": [
    {
     "name": "stdout",
     "output_type": "stream",
     "text": [
      "1 loss: 1.892004277978859 acc: 0.3333333333333333\n",
      "2 loss: 1.586592680836041 acc: 0.3333333333333333\n",
      "3 loss: 1.0823761680837445 acc: 0.3333333333333333\n",
      "4 loss: 0.9915054336684568 acc: 0.3333333333333333\n",
      "5 loss: 0.9450534740992109 acc: 0.3333333333333333\n",
      "6 loss: 0.9097203322759814 acc: 0.3333333333333333\n",
      "7 loss: 0.8818956693466548 acc: 0.36666666666666664\n",
      "8 loss: 0.8595624790899967 acc: 0.4\n",
      "9 loss: 0.841424702951155 acc: 0.4666666666666667\n",
      "10 loss: 0.8265259117054718 acc: 0.54\n"
     ]
    }
   ],
   "source": [
    "from MLP import MLP\n",
    "\n",
    "mlp = MLP()\n",
    "mlp.train(X, y, 10, 1e-5)"
   ]
  },
  {
   "cell_type": "code",
   "execution_count": 40,
   "metadata": {},
   "outputs": [
    {
     "data": {
      "image/png": "[encoded data removed]",
      "text/plain": [
       "<matplotlib.figure.Figure at 0x1ad445f1588>"
      ]
     },
     "metadata": {},
     "output_type": "display_data"
    }
   ],
   "source": [
    "plt.figure()\n",
    "plt.subplot(2,1,1)\n",
    "plt.title('loss')\n",
    "plt.plot(mlp.hist['loss'])\n",
    "\n",
    "plt.subplot(2,1,2)\n",
    "plt.title('acc')\n",
    "plt.plot(mlp.hist['acc'])\n",
    "plt.show()"
   ]
  }
 ],
 "metadata": {
  "kernelspec": {
   "display_name": "Python 3",
   "language": "python",
   "name": "python3"
  },
  "language_info": {
   "codemirror_mode": {
    "name": "ipython",
    "version": 3
   },
   "file_extension": ".py",
   "mimetype": "text/x-python",
   "name": "python",
   "nbconvert_exporter": "python",
   "pygments_lexer": "ipython3",
   "version": "3.6.3"
  }
 },
 "nbformat": 4,
 "nbformat_minor": 2
}
